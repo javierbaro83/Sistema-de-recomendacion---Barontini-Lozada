{
 "cells": [
  {
   "cell_type": "markdown",
   "metadata": {
    "executionInfo": {
     "elapsed": 9,
     "status": "ok",
     "timestamp": 1640009022909,
     "user": {
      "displayName": "Federico Baiocco",
      "photoUrl": "https://lh3.googleusercontent.com/a-/AOh14Ghf2wyATB48QBNVeVnR-1Y2rw_O5uZLAvphY2Otz9c=s64",
      "userId": "14260194928165318342"
     },
     "user_tz": 180
    },
    "id": "4nm3T9E9V7K5"
   },
   "source": [
    "# SPRINT NUMERO 4 BARONTINI Y LOZADA"
   ]
  },
  {
   "cell_type": "raw",
   "metadata": {},
   "source": [
    "Hola Ale! \n",
    "    Somos Javier Barontini y Hernán Lozada. \n",
    "    Estuvimos a full tratando de cumplir con el TP estas semanas y, por suerte, llegamos a buen puerto a ultimo minuto. \n",
    "    Surgieron muchos problemas para correr \"lightFM\" y para procesar los datos (por las 3x10(6) filas), así que muchos de neustras horas de reniegue no se limitaron estrictamente al algoritmo de recomendación.\n",
    "    De cualquier manera, obtuvimos un resulatdo según MAP superior al 0.14 que constituía el requisito de ingreso del concurso, por lo que sentimos que el trabajo resultante es satisfactorio.\n",
    "    Te mandamos un saludo grande y esperamos que estés muy bien. "
   ]
  },
  {
   "cell_type": "markdown",
   "metadata": {},
   "source": [
    "### Algo importante a tener en cuenta es que muchas veces le cambiamos el nombre a los df porque tuvimos que hacerlo \"en parches\", ya que nos corrían los codigos personas con computadoras más potentes. Eso hizo que sea más desorganizado."
   ]
  },
  {
   "cell_type": "markdown",
   "metadata": {},
   "source": [
    "## Comenzamos importando e instalando lo necesario "
   ]
  },
  {
   "cell_type": "code",
   "execution_count": 89,
   "metadata": {},
   "outputs": [
    {
     "name": "stdout",
     "output_type": "stream",
     "text": [
      "Collecting package metadata (current_repodata.json): done\n",
      "Solving environment: done\n",
      "\n",
      "# All requested packages already installed.\n",
      "\n",
      "\n",
      "Note: you may need to restart the kernel to use updated packages.\n"
     ]
    }
   ],
   "source": [
    "\n",
    "conda install -c conda-forge lightfm"
   ]
  },
  {
   "cell_type": "code",
   "execution_count": 90,
   "metadata": {},
   "outputs": [],
   "source": [
    "import numpy as np \n",
    "import pandas as pd\n",
    "from datetime import datetime\n",
    "from lightfm import LightFM\n",
    "from scipy.sparse import csr_matrix"
   ]
  },
  {
   "cell_type": "markdown",
   "metadata": {},
   "source": [
    "## Luego, leemos la infromación necesaria, contenida en formato .CSV"
   ]
  },
  {
   "cell_type": "code",
   "execution_count": 91,
   "metadata": {},
   "outputs": [],
   "source": [
    "train = pd.read_csv('train.csv')\n",
    "metadata = pd.read_csv('metadata.csv', sep=';')"
   ]
  },
  {
   "cell_type": "markdown",
   "metadata": {},
   "source": [
    "## Eliminamos aquellas columnas que no son relevantes y las filas con datos faltantes"
   ]
  },
  {
   "cell_type": "code",
   "execution_count": 92,
   "metadata": {},
   "outputs": [],
   "source": [
    "train.drop(['customer_id', 'device_type'], axis=1, inplace=True)\n",
    "metadata.drop(['reduced_title', \"episode_title\",'description','made_for_tv','close_caption','sex_rating','show_type','violence_rating','pack_premium_2','language_rating','dialog_rating',\"cast_first_name\", \"credits_first_name\",'fv_rating','pay_per_view','pack_premium_1','modify_date'], axis=1, inplace=True)"
   ]
  },
  {
   "cell_type": "code",
   "execution_count": 93,
   "metadata": {},
   "outputs": [],
   "source": [
    "train.dropna(inplace = True)\n",
    "metadata.dropna(inplace = True)"
   ]
  },
  {
   "cell_type": "markdown",
   "metadata": {},
   "source": [
    "## Pasamos los datos de fechas y hora a \"datetime\" y calculamos cuanto tiempo acumulado de casa contenido vieron los usuarios"
   ]
  },
  {
   "cell_type": "code",
   "execution_count": 94,
   "metadata": {},
   "outputs": [],
   "source": [
    "train[\"tunein\"]=pd.to_datetime(train[\"tunein\"], format= '%Y-%m-%d %H:%M:%S')\n",
    "train[\"tuneout\"]=pd.to_datetime(train[\"tuneout\"], format= '%Y-%m-%d %H:%M:%S')\n",
    "train[\"diferencia\"]= train[\"tuneout\"] - train[\"tunein\"]"
   ]
  },
  {
   "cell_type": "code",
   "execution_count": 95,
   "metadata": {},
   "outputs": [],
   "source": [
    "minutos_vistos=[]\n",
    "for i in train[\"diferencia\"]:\n",
    "    u=i.total_seconds()/60\n",
    "    minutos_vistos.append(u)\n",
    "train[\"minutos_vistos\"] = minutos_vistos"
   ]
  },
  {
   "cell_type": "code",
   "execution_count": 20,
   "metadata": {},
   "outputs": [
    {
     "ename": "KeyboardInterrupt",
     "evalue": "",
     "output_type": "error",
     "traceback": [
      "\u001b[0;31m---------------------------------------------------------------------------\u001b[0m",
      "\u001b[0;31mKeyboardInterrupt\u001b[0m                         Traceback (most recent call last)",
      "\u001b[0;32m/var/folders/ts/3pq9p5xd4xz3vqxlnsqgv5zm0000gn/T/ipykernel_94010/1698836891.py\u001b[0m in \u001b[0;36m<module>\u001b[0;34m\u001b[0m\n\u001b[1;32m      7\u001b[0m     \u001b[0mcolumna_valores\u001b[0m\u001b[0;34m=\u001b[0m\u001b[0;34m[\u001b[0m\u001b[0;34m]\u001b[0m\u001b[0;34m\u001b[0m\u001b[0;34m\u001b[0m\u001b[0m\n\u001b[1;32m      8\u001b[0m     \u001b[0;32mfor\u001b[0m \u001b[0mu\u001b[0m \u001b[0;32min\u001b[0m \u001b[0mcontenidos_cliente\u001b[0m\u001b[0;34m:\u001b[0m\u001b[0;34m\u001b[0m\u001b[0;34m\u001b[0m\u001b[0m\n\u001b[0;32m----> 9\u001b[0;31m         \u001b[0ma\u001b[0m\u001b[0;34m=\u001b[0m \u001b[0mtrain\u001b[0m\u001b[0;34m[\u001b[0m\u001b[0;34m\"minutos_vistos\"\u001b[0m\u001b[0;34m]\u001b[0m\u001b[0;34m[\u001b[0m\u001b[0;34m(\u001b[0m\u001b[0mtrain\u001b[0m\u001b[0;34m[\u001b[0m\u001b[0;34m\"account_id\"\u001b[0m\u001b[0;34m]\u001b[0m\u001b[0;34m==\u001b[0m\u001b[0mi\u001b[0m\u001b[0;34m)\u001b[0m \u001b[0;34m&\u001b[0m \u001b[0;34m(\u001b[0m\u001b[0mtrain\u001b[0m\u001b[0;34m[\u001b[0m\u001b[0;34m\"asset_id\"\u001b[0m\u001b[0;34m]\u001b[0m \u001b[0;34m==\u001b[0m \u001b[0mu\u001b[0m\u001b[0;34m)\u001b[0m\u001b[0;34m]\u001b[0m\u001b[0;34m\u001b[0m\u001b[0;34m\u001b[0m\u001b[0m\n\u001b[0m\u001b[1;32m     10\u001b[0m         \u001b[0mduración_real\u001b[0m\u001b[0;34m=\u001b[0m\u001b[0mnp\u001b[0m\u001b[0;34m.\u001b[0m\u001b[0msum\u001b[0m\u001b[0;34m(\u001b[0m\u001b[0ma\u001b[0m\u001b[0;34m)\u001b[0m\u001b[0;34m\u001b[0m\u001b[0;34m\u001b[0m\u001b[0m\n\u001b[1;32m     11\u001b[0m         \u001b[0mcolumna_minutos_vistos_acumulado\u001b[0m\u001b[0;34m.\u001b[0m\u001b[0mappend\u001b[0m\u001b[0;34m(\u001b[0m\u001b[0mduración_real\u001b[0m\u001b[0;34m)\u001b[0m\u001b[0;34m\u001b[0m\u001b[0;34m\u001b[0m\u001b[0m\n",
      "\u001b[0;32m~/opt/anaconda3/lib/python3.9/site-packages/pandas/core/ops/common.py\u001b[0m in \u001b[0;36mnew_method\u001b[0;34m(self, other)\u001b[0m\n\u001b[1;32m     68\u001b[0m         \u001b[0mother\u001b[0m \u001b[0;34m=\u001b[0m \u001b[0mitem_from_zerodim\u001b[0m\u001b[0;34m(\u001b[0m\u001b[0mother\u001b[0m\u001b[0;34m)\u001b[0m\u001b[0;34m\u001b[0m\u001b[0;34m\u001b[0m\u001b[0m\n\u001b[1;32m     69\u001b[0m \u001b[0;34m\u001b[0m\u001b[0m\n\u001b[0;32m---> 70\u001b[0;31m         \u001b[0;32mreturn\u001b[0m \u001b[0mmethod\u001b[0m\u001b[0;34m(\u001b[0m\u001b[0mself\u001b[0m\u001b[0;34m,\u001b[0m \u001b[0mother\u001b[0m\u001b[0;34m)\u001b[0m\u001b[0;34m\u001b[0m\u001b[0;34m\u001b[0m\u001b[0m\n\u001b[0m\u001b[1;32m     71\u001b[0m \u001b[0;34m\u001b[0m\u001b[0m\n\u001b[1;32m     72\u001b[0m     \u001b[0;32mreturn\u001b[0m \u001b[0mnew_method\u001b[0m\u001b[0;34m\u001b[0m\u001b[0;34m\u001b[0m\u001b[0m\n",
      "\u001b[0;32m~/opt/anaconda3/lib/python3.9/site-packages/pandas/core/arraylike.py\u001b[0m in \u001b[0;36m__eq__\u001b[0;34m(self, other)\u001b[0m\n\u001b[1;32m     38\u001b[0m     \u001b[0;34m@\u001b[0m\u001b[0munpack_zerodim_and_defer\u001b[0m\u001b[0;34m(\u001b[0m\u001b[0;34m\"__eq__\"\u001b[0m\u001b[0;34m)\u001b[0m\u001b[0;34m\u001b[0m\u001b[0;34m\u001b[0m\u001b[0m\n\u001b[1;32m     39\u001b[0m     \u001b[0;32mdef\u001b[0m \u001b[0m__eq__\u001b[0m\u001b[0;34m(\u001b[0m\u001b[0mself\u001b[0m\u001b[0;34m,\u001b[0m \u001b[0mother\u001b[0m\u001b[0;34m)\u001b[0m\u001b[0;34m:\u001b[0m\u001b[0;34m\u001b[0m\u001b[0;34m\u001b[0m\u001b[0m\n\u001b[0;32m---> 40\u001b[0;31m         \u001b[0;32mreturn\u001b[0m \u001b[0mself\u001b[0m\u001b[0;34m.\u001b[0m\u001b[0m_cmp_method\u001b[0m\u001b[0;34m(\u001b[0m\u001b[0mother\u001b[0m\u001b[0;34m,\u001b[0m \u001b[0moperator\u001b[0m\u001b[0;34m.\u001b[0m\u001b[0meq\u001b[0m\u001b[0;34m)\u001b[0m\u001b[0;34m\u001b[0m\u001b[0;34m\u001b[0m\u001b[0m\n\u001b[0m\u001b[1;32m     41\u001b[0m \u001b[0;34m\u001b[0m\u001b[0m\n\u001b[1;32m     42\u001b[0m     \u001b[0;34m@\u001b[0m\u001b[0munpack_zerodim_and_defer\u001b[0m\u001b[0;34m(\u001b[0m\u001b[0;34m\"__ne__\"\u001b[0m\u001b[0;34m)\u001b[0m\u001b[0;34m\u001b[0m\u001b[0;34m\u001b[0m\u001b[0m\n",
      "\u001b[0;32m~/opt/anaconda3/lib/python3.9/site-packages/pandas/core/series.py\u001b[0m in \u001b[0;36m_cmp_method\u001b[0;34m(self, other, op)\u001b[0m\n\u001b[1;32m   5621\u001b[0m \u001b[0;34m\u001b[0m\u001b[0m\n\u001b[1;32m   5622\u001b[0m         \u001b[0;32mwith\u001b[0m \u001b[0mnp\u001b[0m\u001b[0;34m.\u001b[0m\u001b[0merrstate\u001b[0m\u001b[0;34m(\u001b[0m\u001b[0mall\u001b[0m\u001b[0;34m=\u001b[0m\u001b[0;34m\"ignore\"\u001b[0m\u001b[0;34m)\u001b[0m\u001b[0;34m:\u001b[0m\u001b[0;34m\u001b[0m\u001b[0;34m\u001b[0m\u001b[0m\n\u001b[0;32m-> 5623\u001b[0;31m             \u001b[0mres_values\u001b[0m \u001b[0;34m=\u001b[0m \u001b[0mops\u001b[0m\u001b[0;34m.\u001b[0m\u001b[0mcomparison_op\u001b[0m\u001b[0;34m(\u001b[0m\u001b[0mlvalues\u001b[0m\u001b[0;34m,\u001b[0m \u001b[0mrvalues\u001b[0m\u001b[0;34m,\u001b[0m \u001b[0mop\u001b[0m\u001b[0;34m)\u001b[0m\u001b[0;34m\u001b[0m\u001b[0;34m\u001b[0m\u001b[0m\n\u001b[0m\u001b[1;32m   5624\u001b[0m \u001b[0;34m\u001b[0m\u001b[0m\n\u001b[1;32m   5625\u001b[0m         \u001b[0;32mreturn\u001b[0m \u001b[0mself\u001b[0m\u001b[0;34m.\u001b[0m\u001b[0m_construct_result\u001b[0m\u001b[0;34m(\u001b[0m\u001b[0mres_values\u001b[0m\u001b[0;34m,\u001b[0m \u001b[0mname\u001b[0m\u001b[0;34m=\u001b[0m\u001b[0mres_name\u001b[0m\u001b[0;34m)\u001b[0m\u001b[0;34m\u001b[0m\u001b[0;34m\u001b[0m\u001b[0m\n",
      "\u001b[0;32m~/opt/anaconda3/lib/python3.9/site-packages/pandas/core/ops/array_ops.py\u001b[0m in \u001b[0;36mcomparison_op\u001b[0;34m(left, right, op)\u001b[0m\n\u001b[1;32m    284\u001b[0m \u001b[0;34m\u001b[0m\u001b[0m\n\u001b[1;32m    285\u001b[0m     \u001b[0;32melse\u001b[0m\u001b[0;34m:\u001b[0m\u001b[0;34m\u001b[0m\u001b[0;34m\u001b[0m\u001b[0m\n\u001b[0;32m--> 286\u001b[0;31m         \u001b[0mres_values\u001b[0m \u001b[0;34m=\u001b[0m \u001b[0m_na_arithmetic_op\u001b[0m\u001b[0;34m(\u001b[0m\u001b[0mlvalues\u001b[0m\u001b[0;34m,\u001b[0m \u001b[0mrvalues\u001b[0m\u001b[0;34m,\u001b[0m \u001b[0mop\u001b[0m\u001b[0;34m,\u001b[0m \u001b[0mis_cmp\u001b[0m\u001b[0;34m=\u001b[0m\u001b[0;32mTrue\u001b[0m\u001b[0;34m)\u001b[0m\u001b[0;34m\u001b[0m\u001b[0;34m\u001b[0m\u001b[0m\n\u001b[0m\u001b[1;32m    287\u001b[0m \u001b[0;34m\u001b[0m\u001b[0m\n\u001b[1;32m    288\u001b[0m     \u001b[0;32mreturn\u001b[0m \u001b[0mres_values\u001b[0m\u001b[0;34m\u001b[0m\u001b[0;34m\u001b[0m\u001b[0m\n",
      "\u001b[0;32m~/opt/anaconda3/lib/python3.9/site-packages/pandas/core/ops/array_ops.py\u001b[0m in \u001b[0;36m_na_arithmetic_op\u001b[0;34m(left, right, op, is_cmp)\u001b[0m\n\u001b[1;32m    161\u001b[0m \u001b[0;34m\u001b[0m\u001b[0m\n\u001b[1;32m    162\u001b[0m     \u001b[0;32mtry\u001b[0m\u001b[0;34m:\u001b[0m\u001b[0;34m\u001b[0m\u001b[0;34m\u001b[0m\u001b[0m\n\u001b[0;32m--> 163\u001b[0;31m         \u001b[0mresult\u001b[0m \u001b[0;34m=\u001b[0m \u001b[0mfunc\u001b[0m\u001b[0;34m(\u001b[0m\u001b[0mleft\u001b[0m\u001b[0;34m,\u001b[0m \u001b[0mright\u001b[0m\u001b[0;34m)\u001b[0m\u001b[0;34m\u001b[0m\u001b[0;34m\u001b[0m\u001b[0m\n\u001b[0m\u001b[1;32m    164\u001b[0m     \u001b[0;32mexcept\u001b[0m \u001b[0mTypeError\u001b[0m\u001b[0;34m:\u001b[0m\u001b[0;34m\u001b[0m\u001b[0;34m\u001b[0m\u001b[0m\n\u001b[1;32m    165\u001b[0m         \u001b[0;32mif\u001b[0m \u001b[0;32mnot\u001b[0m \u001b[0mis_cmp\u001b[0m \u001b[0;32mand\u001b[0m \u001b[0;34m(\u001b[0m\u001b[0mis_object_dtype\u001b[0m\u001b[0;34m(\u001b[0m\u001b[0mleft\u001b[0m\u001b[0;34m.\u001b[0m\u001b[0mdtype\u001b[0m\u001b[0;34m)\u001b[0m \u001b[0;32mor\u001b[0m \u001b[0mis_object_dtype\u001b[0m\u001b[0;34m(\u001b[0m\u001b[0mright\u001b[0m\u001b[0;34m)\u001b[0m\u001b[0;34m)\u001b[0m\u001b[0;34m:\u001b[0m\u001b[0;34m\u001b[0m\u001b[0;34m\u001b[0m\u001b[0m\n",
      "\u001b[0;32m~/opt/anaconda3/lib/python3.9/site-packages/pandas/core/computation/expressions.py\u001b[0m in \u001b[0;36mevaluate\u001b[0;34m(op, a, b, use_numexpr)\u001b[0m\n\u001b[1;32m    237\u001b[0m         \u001b[0;32mif\u001b[0m \u001b[0muse_numexpr\u001b[0m\u001b[0;34m:\u001b[0m\u001b[0;34m\u001b[0m\u001b[0;34m\u001b[0m\u001b[0m\n\u001b[1;32m    238\u001b[0m             \u001b[0;31m# error: \"None\" not callable\u001b[0m\u001b[0;34m\u001b[0m\u001b[0;34m\u001b[0m\u001b[0m\n\u001b[0;32m--> 239\u001b[0;31m             \u001b[0;32mreturn\u001b[0m \u001b[0m_evaluate\u001b[0m\u001b[0;34m(\u001b[0m\u001b[0mop\u001b[0m\u001b[0;34m,\u001b[0m \u001b[0mop_str\u001b[0m\u001b[0;34m,\u001b[0m \u001b[0ma\u001b[0m\u001b[0;34m,\u001b[0m \u001b[0mb\u001b[0m\u001b[0;34m)\u001b[0m  \u001b[0;31m# type: ignore[misc]\u001b[0m\u001b[0;34m\u001b[0m\u001b[0;34m\u001b[0m\u001b[0m\n\u001b[0m\u001b[1;32m    240\u001b[0m     \u001b[0;32mreturn\u001b[0m \u001b[0m_evaluate_standard\u001b[0m\u001b[0;34m(\u001b[0m\u001b[0mop\u001b[0m\u001b[0;34m,\u001b[0m \u001b[0mop_str\u001b[0m\u001b[0;34m,\u001b[0m \u001b[0ma\u001b[0m\u001b[0;34m,\u001b[0m \u001b[0mb\u001b[0m\u001b[0;34m)\u001b[0m\u001b[0;34m\u001b[0m\u001b[0;34m\u001b[0m\u001b[0m\n\u001b[1;32m    241\u001b[0m \u001b[0;34m\u001b[0m\u001b[0m\n",
      "\u001b[0;32m~/opt/anaconda3/lib/python3.9/site-packages/pandas/core/computation/expressions.py\u001b[0m in \u001b[0;36m_evaluate_numexpr\u001b[0;34m(op, op_str, a, b)\u001b[0m\n\u001b[1;32m     93\u001b[0m     \u001b[0mresult\u001b[0m \u001b[0;34m=\u001b[0m \u001b[0;32mNone\u001b[0m\u001b[0;34m\u001b[0m\u001b[0;34m\u001b[0m\u001b[0m\n\u001b[1;32m     94\u001b[0m \u001b[0;34m\u001b[0m\u001b[0m\n\u001b[0;32m---> 95\u001b[0;31m     \u001b[0;32mif\u001b[0m \u001b[0m_can_use_numexpr\u001b[0m\u001b[0;34m(\u001b[0m\u001b[0mop\u001b[0m\u001b[0;34m,\u001b[0m \u001b[0mop_str\u001b[0m\u001b[0;34m,\u001b[0m \u001b[0ma\u001b[0m\u001b[0;34m,\u001b[0m \u001b[0mb\u001b[0m\u001b[0;34m,\u001b[0m \u001b[0;34m\"evaluate\"\u001b[0m\u001b[0;34m)\u001b[0m\u001b[0;34m:\u001b[0m\u001b[0;34m\u001b[0m\u001b[0;34m\u001b[0m\u001b[0m\n\u001b[0m\u001b[1;32m     96\u001b[0m         \u001b[0mis_reversed\u001b[0m \u001b[0;34m=\u001b[0m \u001b[0mop\u001b[0m\u001b[0;34m.\u001b[0m\u001b[0m__name__\u001b[0m\u001b[0;34m.\u001b[0m\u001b[0mstrip\u001b[0m\u001b[0;34m(\u001b[0m\u001b[0;34m\"_\"\u001b[0m\u001b[0;34m)\u001b[0m\u001b[0;34m.\u001b[0m\u001b[0mstartswith\u001b[0m\u001b[0;34m(\u001b[0m\u001b[0;34m\"r\"\u001b[0m\u001b[0;34m)\u001b[0m\u001b[0;34m\u001b[0m\u001b[0;34m\u001b[0m\u001b[0m\n\u001b[1;32m     97\u001b[0m         \u001b[0;32mif\u001b[0m \u001b[0mis_reversed\u001b[0m\u001b[0;34m:\u001b[0m\u001b[0;34m\u001b[0m\u001b[0;34m\u001b[0m\u001b[0m\n",
      "\u001b[0;32m~/opt/anaconda3/lib/python3.9/site-packages/pandas/core/computation/expressions.py\u001b[0m in \u001b[0;36m_can_use_numexpr\u001b[0;34m(op, op_str, a, b, dtype_check)\u001b[0m\n\u001b[1;32m     81\u001b[0m                 \u001b[0;31m# ndarray and Series Case\u001b[0m\u001b[0;34m\u001b[0m\u001b[0;34m\u001b[0m\u001b[0m\n\u001b[1;32m     82\u001b[0m                 \u001b[0;32mif\u001b[0m \u001b[0mhasattr\u001b[0m\u001b[0;34m(\u001b[0m\u001b[0mo\u001b[0m\u001b[0;34m,\u001b[0m \u001b[0;34m\"dtype\"\u001b[0m\u001b[0;34m)\u001b[0m\u001b[0;34m:\u001b[0m\u001b[0;34m\u001b[0m\u001b[0;34m\u001b[0m\u001b[0m\n\u001b[0;32m---> 83\u001b[0;31m                     \u001b[0mdtypes\u001b[0m \u001b[0;34m|=\u001b[0m \u001b[0;34m{\u001b[0m\u001b[0mo\u001b[0m\u001b[0;34m.\u001b[0m\u001b[0mdtype\u001b[0m\u001b[0;34m.\u001b[0m\u001b[0mname\u001b[0m\u001b[0;34m}\u001b[0m\u001b[0;34m\u001b[0m\u001b[0;34m\u001b[0m\u001b[0m\n\u001b[0m\u001b[1;32m     84\u001b[0m \u001b[0;34m\u001b[0m\u001b[0m\n\u001b[1;32m     85\u001b[0m             \u001b[0;31m# allowed are a superset\u001b[0m\u001b[0;34m\u001b[0m\u001b[0;34m\u001b[0m\u001b[0m\n",
      "\u001b[0;32m~/opt/anaconda3/lib/python3.9/site-packages/numpy/core/_dtype.py\u001b[0m in \u001b[0;36m_name_get\u001b[0;34m(dtype)\u001b[0m\n\u001b[1;32m    319\u001b[0m \u001b[0;34m\u001b[0m\u001b[0m\n\u001b[1;32m    320\u001b[0m \u001b[0;34m\u001b[0m\u001b[0m\n\u001b[0;32m--> 321\u001b[0;31m \u001b[0;32mdef\u001b[0m \u001b[0m_name_get\u001b[0m\u001b[0;34m(\u001b[0m\u001b[0mdtype\u001b[0m\u001b[0;34m)\u001b[0m\u001b[0;34m:\u001b[0m\u001b[0;34m\u001b[0m\u001b[0;34m\u001b[0m\u001b[0m\n\u001b[0m\u001b[1;32m    322\u001b[0m     \u001b[0;31m# provides dtype.name.__get__, documented as returning a \"bit name\"\u001b[0m\u001b[0;34m\u001b[0m\u001b[0;34m\u001b[0m\u001b[0m\n\u001b[1;32m    323\u001b[0m \u001b[0;34m\u001b[0m\u001b[0m\n",
      "\u001b[0;31mKeyboardInterrupt\u001b[0m: "
     ]
    }
   ],
   "source": [
    "df_copia=train\n",
    "clientes = train[\"account_id\"].unique()\n",
    "columna_minutos_vistos_acumulado=[]\n",
    "\n",
    "for i in clientes:\n",
    "    contenidos_cliente = train[\"asset_id\"][train[\"account_id\"] == i]\n",
    "    columna_valores=[]\n",
    "    for u in contenidos_cliente:\n",
    "        a= train[\"minutos_vistos\"][(train[\"account_id\"]==i) & (train[\"asset_id\"] == u)]\n",
    "        duración_real=np.sum(a)\n",
    "        columna_minutos_vistos_acumulado.append(duración_real)\n",
    "\n",
    "df_duración = pd.DataFrame ({\"minutos_vistos_acumulados\":columna_minutos_vistos_acumulado})\n",
    "df_copia=df_copia.join(df_duración) "
   ]
  },
  {
   "cell_type": "code",
   "execution_count": 21,
   "metadata": {},
   "outputs": [
    {
     "ename": "KeyError",
     "evalue": "\"['minutos_vistos_acumulados'] not in index\"",
     "output_type": "error",
     "traceback": [
      "\u001b[0;31m---------------------------------------------------------------------------\u001b[0m",
      "\u001b[0;31mKeyError\u001b[0m                                  Traceback (most recent call last)",
      "\u001b[0;32m/var/folders/ts/3pq9p5xd4xz3vqxlnsqgv5zm0000gn/T/ipykernel_94010/1117734828.py\u001b[0m in \u001b[0;36m<module>\u001b[0;34m\u001b[0m\n\u001b[0;32m----> 1\u001b[0;31m df = pd.merge(df_copia[['account_id',\"asset_id\",\"minutos_vistos_acumulados\",\"resume\"]],\n\u001b[0m\u001b[1;32m      2\u001b[0m               \u001b[0mmetadata\u001b[0m\u001b[0;34m[\u001b[0m\u001b[0;34m[\u001b[0m\u001b[0;34m'asset_id'\u001b[0m\u001b[0;34m,\u001b[0m \u001b[0;34m'content_id'\u001b[0m\u001b[0;34m,\u001b[0m \u001b[0;34m\"run_time_min\"\u001b[0m\u001b[0;34m,\u001b[0m\u001b[0;34m\"create_date\"\u001b[0m\u001b[0;34m]\u001b[0m\u001b[0;34m]\u001b[0m\u001b[0;34m,\u001b[0m\u001b[0;34m\u001b[0m\u001b[0;34m\u001b[0m\u001b[0m\n\u001b[1;32m      3\u001b[0m               \u001b[0mhow\u001b[0m \u001b[0;34m=\u001b[0m \u001b[0;34m'inner'\u001b[0m\u001b[0;34m,\u001b[0m\u001b[0;34m\u001b[0m\u001b[0;34m\u001b[0m\u001b[0m\n\u001b[1;32m      4\u001b[0m               on = 'asset_id')\n\u001b[1;32m      5\u001b[0m \u001b[0mdf\u001b[0m\u001b[0;34m\u001b[0m\u001b[0;34m\u001b[0m\u001b[0m\n",
      "\u001b[0;32m~/opt/anaconda3/lib/python3.9/site-packages/pandas/core/frame.py\u001b[0m in \u001b[0;36m__getitem__\u001b[0;34m(self, key)\u001b[0m\n\u001b[1;32m   3509\u001b[0m             \u001b[0;32mif\u001b[0m \u001b[0mis_iterator\u001b[0m\u001b[0;34m(\u001b[0m\u001b[0mkey\u001b[0m\u001b[0;34m)\u001b[0m\u001b[0;34m:\u001b[0m\u001b[0;34m\u001b[0m\u001b[0;34m\u001b[0m\u001b[0m\n\u001b[1;32m   3510\u001b[0m                 \u001b[0mkey\u001b[0m \u001b[0;34m=\u001b[0m \u001b[0mlist\u001b[0m\u001b[0;34m(\u001b[0m\u001b[0mkey\u001b[0m\u001b[0;34m)\u001b[0m\u001b[0;34m\u001b[0m\u001b[0;34m\u001b[0m\u001b[0m\n\u001b[0;32m-> 3511\u001b[0;31m             \u001b[0mindexer\u001b[0m \u001b[0;34m=\u001b[0m \u001b[0mself\u001b[0m\u001b[0;34m.\u001b[0m\u001b[0mcolumns\u001b[0m\u001b[0;34m.\u001b[0m\u001b[0m_get_indexer_strict\u001b[0m\u001b[0;34m(\u001b[0m\u001b[0mkey\u001b[0m\u001b[0;34m,\u001b[0m \u001b[0;34m\"columns\"\u001b[0m\u001b[0;34m)\u001b[0m\u001b[0;34m[\u001b[0m\u001b[0;36m1\u001b[0m\u001b[0;34m]\u001b[0m\u001b[0;34m\u001b[0m\u001b[0;34m\u001b[0m\u001b[0m\n\u001b[0m\u001b[1;32m   3512\u001b[0m \u001b[0;34m\u001b[0m\u001b[0m\n\u001b[1;32m   3513\u001b[0m         \u001b[0;31m# take() does not accept boolean indexers\u001b[0m\u001b[0;34m\u001b[0m\u001b[0;34m\u001b[0m\u001b[0m\n",
      "\u001b[0;32m~/opt/anaconda3/lib/python3.9/site-packages/pandas/core/indexes/base.py\u001b[0m in \u001b[0;36m_get_indexer_strict\u001b[0;34m(self, key, axis_name)\u001b[0m\n\u001b[1;32m   5794\u001b[0m             \u001b[0mkeyarr\u001b[0m\u001b[0;34m,\u001b[0m \u001b[0mindexer\u001b[0m\u001b[0;34m,\u001b[0m \u001b[0mnew_indexer\u001b[0m \u001b[0;34m=\u001b[0m \u001b[0mself\u001b[0m\u001b[0;34m.\u001b[0m\u001b[0m_reindex_non_unique\u001b[0m\u001b[0;34m(\u001b[0m\u001b[0mkeyarr\u001b[0m\u001b[0;34m)\u001b[0m\u001b[0;34m\u001b[0m\u001b[0;34m\u001b[0m\u001b[0m\n\u001b[1;32m   5795\u001b[0m \u001b[0;34m\u001b[0m\u001b[0m\n\u001b[0;32m-> 5796\u001b[0;31m         \u001b[0mself\u001b[0m\u001b[0;34m.\u001b[0m\u001b[0m_raise_if_missing\u001b[0m\u001b[0;34m(\u001b[0m\u001b[0mkeyarr\u001b[0m\u001b[0;34m,\u001b[0m \u001b[0mindexer\u001b[0m\u001b[0;34m,\u001b[0m \u001b[0maxis_name\u001b[0m\u001b[0;34m)\u001b[0m\u001b[0;34m\u001b[0m\u001b[0;34m\u001b[0m\u001b[0m\n\u001b[0m\u001b[1;32m   5797\u001b[0m \u001b[0;34m\u001b[0m\u001b[0m\n\u001b[1;32m   5798\u001b[0m         \u001b[0mkeyarr\u001b[0m \u001b[0;34m=\u001b[0m \u001b[0mself\u001b[0m\u001b[0;34m.\u001b[0m\u001b[0mtake\u001b[0m\u001b[0;34m(\u001b[0m\u001b[0mindexer\u001b[0m\u001b[0;34m)\u001b[0m\u001b[0;34m\u001b[0m\u001b[0;34m\u001b[0m\u001b[0m\n",
      "\u001b[0;32m~/opt/anaconda3/lib/python3.9/site-packages/pandas/core/indexes/base.py\u001b[0m in \u001b[0;36m_raise_if_missing\u001b[0;34m(self, key, indexer, axis_name)\u001b[0m\n\u001b[1;32m   5857\u001b[0m \u001b[0;34m\u001b[0m\u001b[0m\n\u001b[1;32m   5858\u001b[0m             \u001b[0mnot_found\u001b[0m \u001b[0;34m=\u001b[0m \u001b[0mlist\u001b[0m\u001b[0;34m(\u001b[0m\u001b[0mensure_index\u001b[0m\u001b[0;34m(\u001b[0m\u001b[0mkey\u001b[0m\u001b[0;34m)\u001b[0m\u001b[0;34m[\u001b[0m\u001b[0mmissing_mask\u001b[0m\u001b[0;34m.\u001b[0m\u001b[0mnonzero\u001b[0m\u001b[0;34m(\u001b[0m\u001b[0;34m)\u001b[0m\u001b[0;34m[\u001b[0m\u001b[0;36m0\u001b[0m\u001b[0;34m]\u001b[0m\u001b[0;34m]\u001b[0m\u001b[0;34m.\u001b[0m\u001b[0munique\u001b[0m\u001b[0;34m(\u001b[0m\u001b[0;34m)\u001b[0m\u001b[0;34m)\u001b[0m\u001b[0;34m\u001b[0m\u001b[0;34m\u001b[0m\u001b[0m\n\u001b[0;32m-> 5859\u001b[0;31m             \u001b[0;32mraise\u001b[0m \u001b[0mKeyError\u001b[0m\u001b[0;34m(\u001b[0m\u001b[0;34mf\"{not_found} not in index\"\u001b[0m\u001b[0;34m)\u001b[0m\u001b[0;34m\u001b[0m\u001b[0;34m\u001b[0m\u001b[0m\n\u001b[0m\u001b[1;32m   5860\u001b[0m \u001b[0;34m\u001b[0m\u001b[0m\n\u001b[1;32m   5861\u001b[0m     \u001b[0;34m@\u001b[0m\u001b[0moverload\u001b[0m\u001b[0;34m\u001b[0m\u001b[0;34m\u001b[0m\u001b[0m\n",
      "\u001b[0;31mKeyError\u001b[0m: \"['minutos_vistos_acumulados'] not in index\""
     ]
    }
   ],
   "source": [
    "df = pd.merge(df_copia[['account_id',\"asset_id\",\"minutos_vistos_acumulados\",\"resume\"]],\n",
    "              metadata[['asset_id', 'content_id', \"run_time_min\",\"create_date\"]], \n",
    "              how = 'inner', \n",
    "              on = 'asset_id')\n",
    "df"
   ]
  },
  {
   "cell_type": "markdown",
   "metadata": {},
   "source": [
    "## Como era mucho procesamiento po rel ciclo for anidado dentro de otro ciclo for, pedimos a otra persona que corra el programa, y nos lo envió con el nombre de \"df_copia_nuevo_resultados\""
   ]
  },
  {
   "cell_type": "code",
   "execution_count": 96,
   "metadata": {
    "executionInfo": {
     "elapsed": 68755,
     "status": "ok",
     "timestamp": 1640009091658,
     "user": {
      "displayName": "Federico Baiocco",
      "photoUrl": "https://lh3.googleusercontent.com/a-/AOh14Ghf2wyATB48QBNVeVnR-1Y2rw_O5uZLAvphY2Otz9c=s64",
      "userId": "14260194928165318342"
     },
     "user_tz": 180
    },
    "id": "z0po1VGDgkYm",
    "scrolled": false
   },
   "outputs": [
    {
     "data": {
      "text/html": [
       "<div>\n",
       "<style scoped>\n",
       "    .dataframe tbody tr th:only-of-type {\n",
       "        vertical-align: middle;\n",
       "    }\n",
       "\n",
       "    .dataframe tbody tr th {\n",
       "        vertical-align: top;\n",
       "    }\n",
       "\n",
       "    .dataframe thead th {\n",
       "        text-align: right;\n",
       "    }\n",
       "</style>\n",
       "<table border=\"1\" class=\"dataframe\">\n",
       "  <thead>\n",
       "    <tr style=\"text-align: right;\">\n",
       "      <th></th>\n",
       "      <th>Unnamed: 0</th>\n",
       "      <th>account_id</th>\n",
       "      <th>asset_id</th>\n",
       "      <th>minutos_vistos</th>\n",
       "      <th>tunein</th>\n",
       "      <th>tuneout</th>\n",
       "      <th>resume</th>\n",
       "      <th>content_id</th>\n",
       "      <th>create_date</th>\n",
       "      <th>run_time_min</th>\n",
       "      <th>start_vod_date</th>\n",
       "      <th>end_vod_date</th>\n",
       "      <th>minutos_vistos_acumulados</th>\n",
       "    </tr>\n",
       "  </thead>\n",
       "  <tbody>\n",
       "    <tr>\n",
       "      <th>0</th>\n",
       "      <td>0</td>\n",
       "      <td>90627</td>\n",
       "      <td>18332.0</td>\n",
       "      <td>43.0</td>\n",
       "      <td>2021-02-18 22:52:00</td>\n",
       "      <td>2021-02-18 23:35:00</td>\n",
       "      <td>0</td>\n",
       "      <td>2040.0</td>\n",
       "      <td>2021-02-18T19:05:36.0Z</td>\n",
       "      <td>43.0</td>\n",
       "      <td>2021-02-18T00:00:00.0Z</td>\n",
       "      <td>2021-06-30T23:59:59.0Z</td>\n",
       "      <td>43.0</td>\n",
       "    </tr>\n",
       "    <tr>\n",
       "      <th>1</th>\n",
       "      <td>1</td>\n",
       "      <td>3389</td>\n",
       "      <td>18332.0</td>\n",
       "      <td>40.0</td>\n",
       "      <td>2021-02-27 16:25:00</td>\n",
       "      <td>2021-02-27 17:05:00</td>\n",
       "      <td>0</td>\n",
       "      <td>2040.0</td>\n",
       "      <td>2021-02-18T19:05:36.0Z</td>\n",
       "      <td>43.0</td>\n",
       "      <td>2021-02-18T00:00:00.0Z</td>\n",
       "      <td>2021-06-30T23:59:59.0Z</td>\n",
       "      <td>44.0</td>\n",
       "    </tr>\n",
       "    <tr>\n",
       "      <th>2</th>\n",
       "      <td>2</td>\n",
       "      <td>3395</td>\n",
       "      <td>18332.0</td>\n",
       "      <td>46.0</td>\n",
       "      <td>2021-02-24 17:24:00</td>\n",
       "      <td>2021-02-24 18:10:00</td>\n",
       "      <td>0</td>\n",
       "      <td>2040.0</td>\n",
       "      <td>2021-02-18T19:05:36.0Z</td>\n",
       "      <td>43.0</td>\n",
       "      <td>2021-02-18T00:00:00.0Z</td>\n",
       "      <td>2021-06-30T23:59:59.0Z</td>\n",
       "      <td>40.0</td>\n",
       "    </tr>\n",
       "  </tbody>\n",
       "</table>\n",
       "</div>"
      ],
      "text/plain": [
       "   Unnamed: 0  account_id  asset_id  minutos_vistos               tunein  \\\n",
       "0           0       90627   18332.0            43.0  2021-02-18 22:52:00   \n",
       "1           1        3389   18332.0            40.0  2021-02-27 16:25:00   \n",
       "2           2        3395   18332.0            46.0  2021-02-24 17:24:00   \n",
       "\n",
       "               tuneout  resume  content_id             create_date  \\\n",
       "0  2021-02-18 23:35:00       0      2040.0  2021-02-18T19:05:36.0Z   \n",
       "1  2021-02-27 17:05:00       0      2040.0  2021-02-18T19:05:36.0Z   \n",
       "2  2021-02-24 18:10:00       0      2040.0  2021-02-18T19:05:36.0Z   \n",
       "\n",
       "   run_time_min          start_vod_date            end_vod_date  \\\n",
       "0          43.0  2021-02-18T00:00:00.0Z  2021-06-30T23:59:59.0Z   \n",
       "1          43.0  2021-02-18T00:00:00.0Z  2021-06-30T23:59:59.0Z   \n",
       "2          43.0  2021-02-18T00:00:00.0Z  2021-06-30T23:59:59.0Z   \n",
       "\n",
       "   minutos_vistos_acumulados  \n",
       "0                       43.0  \n",
       "1                       44.0  \n",
       "2                       40.0  "
      ]
     },
     "execution_count": 96,
     "metadata": {},
     "output_type": "execute_result"
    }
   ],
   "source": [
    "df_copia_resultados = pd.read_csv('df_copia_nuevo_resultados.csv')\n",
    "df_copia_resultados.head(3)"
   ]
  },
  {
   "cell_type": "markdown",
   "metadata": {},
   "source": [
    "## Entonces, aplicamos el siguiente criterio: Si el usuario había visto más del 70% del contenido, lo considerabamos como \"vista\" y le dabamos un rating igual a 1. "
   ]
  },
  {
   "cell_type": "code",
   "execution_count": 97,
   "metadata": {},
   "outputs": [],
   "source": [
    "df_copia_resultados[\"columna_porcentaje\"]=df_copia_resultados[\"minutos_vistos_acumulados\"]/df_copia_resultados[\"run_time_min\"]"
   ]
  },
  {
   "cell_type": "code",
   "execution_count": 98,
   "metadata": {},
   "outputs": [],
   "source": [
    "columna_gusta=[]\n",
    "for i in df_copia_resultados[\"columna_porcentaje\"]:\n",
    "    if i>0.6999:\n",
    "        columna_gusta.append(\"1\")\n",
    "    else:\n",
    "        columna_gusta.append(\"0\")"
   ]
  },
  {
   "cell_type": "code",
   "execution_count": 99,
   "metadata": {
    "scrolled": true
   },
   "outputs": [
    {
     "data": {
      "text/html": [
       "<div>\n",
       "<style scoped>\n",
       "    .dataframe tbody tr th:only-of-type {\n",
       "        vertical-align: middle;\n",
       "    }\n",
       "\n",
       "    .dataframe tbody tr th {\n",
       "        vertical-align: top;\n",
       "    }\n",
       "\n",
       "    .dataframe thead th {\n",
       "        text-align: right;\n",
       "    }\n",
       "</style>\n",
       "<table border=\"1\" class=\"dataframe\">\n",
       "  <thead>\n",
       "    <tr style=\"text-align: right;\">\n",
       "      <th></th>\n",
       "      <th>Unnamed: 0</th>\n",
       "      <th>account_id</th>\n",
       "      <th>asset_id</th>\n",
       "      <th>minutos_vistos</th>\n",
       "      <th>tunein</th>\n",
       "      <th>tuneout</th>\n",
       "      <th>resume</th>\n",
       "      <th>content_id</th>\n",
       "      <th>create_date</th>\n",
       "      <th>run_time_min</th>\n",
       "      <th>start_vod_date</th>\n",
       "      <th>end_vod_date</th>\n",
       "      <th>minutos_vistos_acumulados</th>\n",
       "      <th>columna_porcentaje</th>\n",
       "      <th>rating</th>\n",
       "    </tr>\n",
       "  </thead>\n",
       "  <tbody>\n",
       "    <tr>\n",
       "      <th>0</th>\n",
       "      <td>0</td>\n",
       "      <td>90627</td>\n",
       "      <td>18332.0</td>\n",
       "      <td>43.0</td>\n",
       "      <td>2021-02-18 22:52:00</td>\n",
       "      <td>2021-02-18 23:35:00</td>\n",
       "      <td>0</td>\n",
       "      <td>2040.0</td>\n",
       "      <td>2021-02-18T19:05:36.0Z</td>\n",
       "      <td>43.0</td>\n",
       "      <td>2021-02-18T00:00:00.0Z</td>\n",
       "      <td>2021-06-30T23:59:59.0Z</td>\n",
       "      <td>43.0</td>\n",
       "      <td>1.000000</td>\n",
       "      <td>1</td>\n",
       "    </tr>\n",
       "    <tr>\n",
       "      <th>1</th>\n",
       "      <td>1</td>\n",
       "      <td>3389</td>\n",
       "      <td>18332.0</td>\n",
       "      <td>40.0</td>\n",
       "      <td>2021-02-27 16:25:00</td>\n",
       "      <td>2021-02-27 17:05:00</td>\n",
       "      <td>0</td>\n",
       "      <td>2040.0</td>\n",
       "      <td>2021-02-18T19:05:36.0Z</td>\n",
       "      <td>43.0</td>\n",
       "      <td>2021-02-18T00:00:00.0Z</td>\n",
       "      <td>2021-06-30T23:59:59.0Z</td>\n",
       "      <td>44.0</td>\n",
       "      <td>1.023256</td>\n",
       "      <td>1</td>\n",
       "    </tr>\n",
       "    <tr>\n",
       "      <th>2</th>\n",
       "      <td>2</td>\n",
       "      <td>3395</td>\n",
       "      <td>18332.0</td>\n",
       "      <td>46.0</td>\n",
       "      <td>2021-02-24 17:24:00</td>\n",
       "      <td>2021-02-24 18:10:00</td>\n",
       "      <td>0</td>\n",
       "      <td>2040.0</td>\n",
       "      <td>2021-02-18T19:05:36.0Z</td>\n",
       "      <td>43.0</td>\n",
       "      <td>2021-02-18T00:00:00.0Z</td>\n",
       "      <td>2021-06-30T23:59:59.0Z</td>\n",
       "      <td>40.0</td>\n",
       "      <td>0.930233</td>\n",
       "      <td>1</td>\n",
       "    </tr>\n",
       "    <tr>\n",
       "      <th>3</th>\n",
       "      <td>3</td>\n",
       "      <td>26042</td>\n",
       "      <td>18332.0</td>\n",
       "      <td>48.0</td>\n",
       "      <td>2021-02-24 21:56:00</td>\n",
       "      <td>2021-02-24 22:44:00</td>\n",
       "      <td>0</td>\n",
       "      <td>2040.0</td>\n",
       "      <td>2021-02-18T19:05:36.0Z</td>\n",
       "      <td>43.0</td>\n",
       "      <td>2021-02-18T00:00:00.0Z</td>\n",
       "      <td>2021-06-30T23:59:59.0Z</td>\n",
       "      <td>49.0</td>\n",
       "      <td>1.139535</td>\n",
       "      <td>1</td>\n",
       "    </tr>\n",
       "    <tr>\n",
       "      <th>4</th>\n",
       "      <td>4</td>\n",
       "      <td>26060</td>\n",
       "      <td>18332.0</td>\n",
       "      <td>5.0</td>\n",
       "      <td>2021-02-19 15:10:00</td>\n",
       "      <td>2021-02-19 15:15:00</td>\n",
       "      <td>1</td>\n",
       "      <td>2040.0</td>\n",
       "      <td>2021-02-18T19:05:36.0Z</td>\n",
       "      <td>43.0</td>\n",
       "      <td>2021-02-18T00:00:00.0Z</td>\n",
       "      <td>2021-06-30T23:59:59.0Z</td>\n",
       "      <td>4.0</td>\n",
       "      <td>0.093023</td>\n",
       "      <td>0</td>\n",
       "    </tr>\n",
       "  </tbody>\n",
       "</table>\n",
       "</div>"
      ],
      "text/plain": [
       "   Unnamed: 0  account_id  asset_id  minutos_vistos               tunein  \\\n",
       "0           0       90627   18332.0            43.0  2021-02-18 22:52:00   \n",
       "1           1        3389   18332.0            40.0  2021-02-27 16:25:00   \n",
       "2           2        3395   18332.0            46.0  2021-02-24 17:24:00   \n",
       "3           3       26042   18332.0            48.0  2021-02-24 21:56:00   \n",
       "4           4       26060   18332.0             5.0  2021-02-19 15:10:00   \n",
       "\n",
       "               tuneout  resume  content_id             create_date  \\\n",
       "0  2021-02-18 23:35:00       0      2040.0  2021-02-18T19:05:36.0Z   \n",
       "1  2021-02-27 17:05:00       0      2040.0  2021-02-18T19:05:36.0Z   \n",
       "2  2021-02-24 18:10:00       0      2040.0  2021-02-18T19:05:36.0Z   \n",
       "3  2021-02-24 22:44:00       0      2040.0  2021-02-18T19:05:36.0Z   \n",
       "4  2021-02-19 15:15:00       1      2040.0  2021-02-18T19:05:36.0Z   \n",
       "\n",
       "   run_time_min          start_vod_date            end_vod_date  \\\n",
       "0          43.0  2021-02-18T00:00:00.0Z  2021-06-30T23:59:59.0Z   \n",
       "1          43.0  2021-02-18T00:00:00.0Z  2021-06-30T23:59:59.0Z   \n",
       "2          43.0  2021-02-18T00:00:00.0Z  2021-06-30T23:59:59.0Z   \n",
       "3          43.0  2021-02-18T00:00:00.0Z  2021-06-30T23:59:59.0Z   \n",
       "4          43.0  2021-02-18T00:00:00.0Z  2021-06-30T23:59:59.0Z   \n",
       "\n",
       "   minutos_vistos_acumulados  columna_porcentaje rating  \n",
       "0                       43.0            1.000000      1  \n",
       "1                       44.0            1.023256      1  \n",
       "2                       40.0            0.930233      1  \n",
       "3                       49.0            1.139535      1  \n",
       "4                        4.0            0.093023      0  "
      ]
     },
     "execution_count": 99,
     "metadata": {},
     "output_type": "execute_result"
    }
   ],
   "source": [
    "df_columna_gusta = pd.DataFrame ({\"rating\":columna_gusta})\n",
    "df_copia_resultados=df_copia_resultados.join(df_columna_gusta) \n",
    "df_copia_resultados.head()"
   ]
  },
  {
   "cell_type": "markdown",
   "metadata": {},
   "source": [
    "## Dropeamos los duplicados (ya que acumulamos los minutos vistos) y separamos en los conjuntos de Train y Test. "
   ]
  },
  {
   "cell_type": "code",
   "execution_count": 103,
   "metadata": {},
   "outputs": [],
   "source": [
    "df_copia_resultados = df_copia_resultados.drop_duplicates(\n",
    "  subset = ['account_id', 'content_id'],\n",
    "  keep = 'last').reset_index(drop = True)"
   ]
  },
  {
   "cell_type": "code",
   "execution_count": 104,
   "metadata": {},
   "outputs": [],
   "source": [
    "df_copia_resultados[\"tunein\"]=pd.to_datetime(df_copia_resultados[\"tunein\"], format=\"%Y-%m-%d\").dt.date"
   ]
  },
  {
   "cell_type": "code",
   "execution_count": 105,
   "metadata": {
    "executionInfo": {
     "elapsed": 7,
     "status": "ok",
     "timestamp": 1640009143816,
     "user": {
      "displayName": "Federico Baiocco",
      "photoUrl": "https://lh3.googleusercontent.com/a-/AOh14Ghf2wyATB48QBNVeVnR-1Y2rw_O5uZLAvphY2Otz9c=s64",
      "userId": "14260194928165318342"
     },
     "user_tz": 180
    },
    "id": "39U1TmWNIXR6"
   },
   "outputs": [],
   "source": [
    "train = df_copia_resultados[df_copia_resultados.tunein < datetime(2021, 3, 1).date()]\n",
    "\n",
    "test = df_copia_resultados[df_copia_resultados.tunein >= datetime(2021, 3, 1).date()]"
   ]
  },
  {
   "cell_type": "markdown",
   "metadata": {
    "id": "hZF4X0rGjf3-"
   },
   "source": [
    "## Armamos la matriz de interacciones "
   ]
  },
  {
   "cell_type": "code",
   "execution_count": 106,
   "metadata": {},
   "outputs": [
    {
     "data": {
      "text/html": [
       "<div>\n",
       "<style scoped>\n",
       "    .dataframe tbody tr th:only-of-type {\n",
       "        vertical-align: middle;\n",
       "    }\n",
       "\n",
       "    .dataframe tbody tr th {\n",
       "        vertical-align: top;\n",
       "    }\n",
       "\n",
       "    .dataframe thead th {\n",
       "        text-align: right;\n",
       "    }\n",
       "</style>\n",
       "<table border=\"1\" class=\"dataframe\">\n",
       "  <thead>\n",
       "    <tr style=\"text-align: right;\">\n",
       "      <th></th>\n",
       "      <th>Unnamed: 0</th>\n",
       "      <th>account_id</th>\n",
       "      <th>asset_id</th>\n",
       "      <th>minutos_vistos</th>\n",
       "      <th>tunein</th>\n",
       "      <th>tuneout</th>\n",
       "      <th>resume</th>\n",
       "      <th>content_id</th>\n",
       "      <th>create_date</th>\n",
       "      <th>run_time_min</th>\n",
       "      <th>start_vod_date</th>\n",
       "      <th>end_vod_date</th>\n",
       "      <th>minutos_vistos_acumulados</th>\n",
       "      <th>columna_porcentaje</th>\n",
       "      <th>rating</th>\n",
       "    </tr>\n",
       "  </thead>\n",
       "  <tbody>\n",
       "    <tr>\n",
       "      <th>0</th>\n",
       "      <td>11</td>\n",
       "      <td>3399</td>\n",
       "      <td>18332.0</td>\n",
       "      <td>17.0</td>\n",
       "      <td>2021-02-24</td>\n",
       "      <td>2021-02-24 22:25:00</td>\n",
       "      <td>1</td>\n",
       "      <td>2040.0</td>\n",
       "      <td>2021-02-18T19:05:36.0Z</td>\n",
       "      <td>43.0</td>\n",
       "      <td>2021-02-18T00:00:00.0Z</td>\n",
       "      <td>2021-06-30T23:59:59.0Z</td>\n",
       "      <td>15.0</td>\n",
       "      <td>0.348837</td>\n",
       "      <td>0</td>\n",
       "    </tr>\n",
       "    <tr>\n",
       "      <th>3</th>\n",
       "      <td>332</td>\n",
       "      <td>107896</td>\n",
       "      <td>18332.0</td>\n",
       "      <td>14.0</td>\n",
       "      <td>2021-02-19</td>\n",
       "      <td>2021-02-19 16:08:00</td>\n",
       "      <td>1</td>\n",
       "      <td>2040.0</td>\n",
       "      <td>2021-02-18T19:05:36.0Z</td>\n",
       "      <td>43.0</td>\n",
       "      <td>2021-02-18T00:00:00.0Z</td>\n",
       "      <td>2021-06-30T23:59:59.0Z</td>\n",
       "      <td>29.0</td>\n",
       "      <td>0.674419</td>\n",
       "      <td>0</td>\n",
       "    </tr>\n",
       "    <tr>\n",
       "      <th>5</th>\n",
       "      <td>405</td>\n",
       "      <td>89348</td>\n",
       "      <td>18332.0</td>\n",
       "      <td>2.0</td>\n",
       "      <td>2021-02-26</td>\n",
       "      <td>2021-02-26 22:26:00</td>\n",
       "      <td>0</td>\n",
       "      <td>2040.0</td>\n",
       "      <td>2021-02-18T19:05:36.0Z</td>\n",
       "      <td>43.0</td>\n",
       "      <td>2021-02-18T00:00:00.0Z</td>\n",
       "      <td>2021-06-30T23:59:59.0Z</td>\n",
       "      <td>23.0</td>\n",
       "      <td>0.534884</td>\n",
       "      <td>0</td>\n",
       "    </tr>\n",
       "  </tbody>\n",
       "</table>\n",
       "</div>"
      ],
      "text/plain": [
       "   Unnamed: 0  account_id  asset_id  minutos_vistos      tunein  \\\n",
       "0          11        3399   18332.0            17.0  2021-02-24   \n",
       "3         332      107896   18332.0            14.0  2021-02-19   \n",
       "5         405       89348   18332.0             2.0  2021-02-26   \n",
       "\n",
       "               tuneout  resume  content_id             create_date  \\\n",
       "0  2021-02-24 22:25:00       1      2040.0  2021-02-18T19:05:36.0Z   \n",
       "3  2021-02-19 16:08:00       1      2040.0  2021-02-18T19:05:36.0Z   \n",
       "5  2021-02-26 22:26:00       0      2040.0  2021-02-18T19:05:36.0Z   \n",
       "\n",
       "   run_time_min          start_vod_date            end_vod_date  \\\n",
       "0          43.0  2021-02-18T00:00:00.0Z  2021-06-30T23:59:59.0Z   \n",
       "3          43.0  2021-02-18T00:00:00.0Z  2021-06-30T23:59:59.0Z   \n",
       "5          43.0  2021-02-18T00:00:00.0Z  2021-06-30T23:59:59.0Z   \n",
       "\n",
       "   minutos_vistos_acumulados  columna_porcentaje rating  \n",
       "0                       15.0            0.348837      0  \n",
       "3                       29.0            0.674419      0  \n",
       "5                       23.0            0.534884      0  "
      ]
     },
     "execution_count": 106,
     "metadata": {},
     "output_type": "execute_result"
    }
   ],
   "source": [
    "train.head(3)"
   ]
  },
  {
   "cell_type": "code",
   "execution_count": 31,
   "metadata": {},
   "outputs": [],
   "source": [
    "train = train.groupby(['account_id', 'content_id'], as_index=False)\\\n",
    "            .agg({'account_id': 'first',\n",
    "                  'content_id': 'first',\n",
    "                  'rating': 'mean'\n",
    "                  })"
   ]
  },
  {
   "cell_type": "code",
   "execution_count": 32,
   "metadata": {
    "colab": {
     "base_uri": "https://localhost:8080/",
     "height": 487
    },
    "executionInfo": {
     "elapsed": 11111,
     "status": "ok",
     "timestamp": 1640009154923,
     "user": {
      "displayName": "Federico Baiocco",
      "photoUrl": "https://lh3.googleusercontent.com/a-/AOh14Ghf2wyATB48QBNVeVnR-1Y2rw_O5uZLAvphY2Otz9c=s64",
      "userId": "14260194928165318342"
     },
     "user_tz": 180
    },
    "id": "fJWeQU0skZ5a",
    "outputId": "f796ca9d-0932-4526-828a-1270cf83c35d"
   },
   "outputs": [],
   "source": [
    "matriz_interacciones = pd.pivot_table(train[[\"account_id\", \"content_id\", \"rating\"]], index='account_id', columns='content_id', values='rating')"
   ]
  },
  {
   "cell_type": "code",
   "execution_count": 33,
   "metadata": {},
   "outputs": [
    {
     "data": {
      "text/html": [
       "<div>\n",
       "<style scoped>\n",
       "    .dataframe tbody tr th:only-of-type {\n",
       "        vertical-align: middle;\n",
       "    }\n",
       "\n",
       "    .dataframe tbody tr th {\n",
       "        vertical-align: top;\n",
       "    }\n",
       "\n",
       "    .dataframe thead th {\n",
       "        text-align: right;\n",
       "    }\n",
       "</style>\n",
       "<table border=\"1\" class=\"dataframe\">\n",
       "  <thead>\n",
       "    <tr style=\"text-align: right;\">\n",
       "      <th>content_id</th>\n",
       "      <th>0.0</th>\n",
       "      <th>1.0</th>\n",
       "      <th>3.0</th>\n",
       "      <th>6.0</th>\n",
       "      <th>7.0</th>\n",
       "      <th>8.0</th>\n",
       "      <th>9.0</th>\n",
       "      <th>10.0</th>\n",
       "      <th>11.0</th>\n",
       "      <th>12.0</th>\n",
       "      <th>...</th>\n",
       "      <th>4357.0</th>\n",
       "      <th>4358.0</th>\n",
       "      <th>4359.0</th>\n",
       "      <th>4360.0</th>\n",
       "      <th>4361.0</th>\n",
       "      <th>4362.0</th>\n",
       "      <th>4363.0</th>\n",
       "      <th>4364.0</th>\n",
       "      <th>4365.0</th>\n",
       "      <th>4366.0</th>\n",
       "    </tr>\n",
       "    <tr>\n",
       "      <th>account_id</th>\n",
       "      <th></th>\n",
       "      <th></th>\n",
       "      <th></th>\n",
       "      <th></th>\n",
       "      <th></th>\n",
       "      <th></th>\n",
       "      <th></th>\n",
       "      <th></th>\n",
       "      <th></th>\n",
       "      <th></th>\n",
       "      <th></th>\n",
       "      <th></th>\n",
       "      <th></th>\n",
       "      <th></th>\n",
       "      <th></th>\n",
       "      <th></th>\n",
       "      <th></th>\n",
       "      <th></th>\n",
       "      <th></th>\n",
       "      <th></th>\n",
       "      <th></th>\n",
       "    </tr>\n",
       "  </thead>\n",
       "  <tbody>\n",
       "    <tr>\n",
       "      <th>92971</th>\n",
       "      <td>0.0</td>\n",
       "      <td>0.0</td>\n",
       "      <td>0.0</td>\n",
       "      <td>0.0</td>\n",
       "      <td>0.0</td>\n",
       "      <td>0.0</td>\n",
       "      <td>0.0</td>\n",
       "      <td>0.0</td>\n",
       "      <td>0.0</td>\n",
       "      <td>0.0</td>\n",
       "      <td>...</td>\n",
       "      <td>0.0</td>\n",
       "      <td>0.0</td>\n",
       "      <td>0.0</td>\n",
       "      <td>0.0</td>\n",
       "      <td>0.0</td>\n",
       "      <td>0.0</td>\n",
       "      <td>0.0</td>\n",
       "      <td>0.0</td>\n",
       "      <td>0.0</td>\n",
       "      <td>0.0</td>\n",
       "    </tr>\n",
       "    <tr>\n",
       "      <th>13879</th>\n",
       "      <td>0.0</td>\n",
       "      <td>0.0</td>\n",
       "      <td>0.0</td>\n",
       "      <td>1.0</td>\n",
       "      <td>0.0</td>\n",
       "      <td>0.0</td>\n",
       "      <td>0.0</td>\n",
       "      <td>0.0</td>\n",
       "      <td>0.0</td>\n",
       "      <td>0.0</td>\n",
       "      <td>...</td>\n",
       "      <td>0.0</td>\n",
       "      <td>0.0</td>\n",
       "      <td>0.0</td>\n",
       "      <td>0.0</td>\n",
       "      <td>0.0</td>\n",
       "      <td>0.0</td>\n",
       "      <td>0.0</td>\n",
       "      <td>0.0</td>\n",
       "      <td>0.0</td>\n",
       "      <td>0.0</td>\n",
       "    </tr>\n",
       "    <tr>\n",
       "      <th>5123</th>\n",
       "      <td>0.0</td>\n",
       "      <td>0.0</td>\n",
       "      <td>0.0</td>\n",
       "      <td>0.0</td>\n",
       "      <td>0.0</td>\n",
       "      <td>0.0</td>\n",
       "      <td>0.0</td>\n",
       "      <td>0.0</td>\n",
       "      <td>0.0</td>\n",
       "      <td>0.0</td>\n",
       "      <td>...</td>\n",
       "      <td>0.0</td>\n",
       "      <td>0.0</td>\n",
       "      <td>0.0</td>\n",
       "      <td>0.0</td>\n",
       "      <td>0.0</td>\n",
       "      <td>0.0</td>\n",
       "      <td>0.0</td>\n",
       "      <td>0.0</td>\n",
       "      <td>0.0</td>\n",
       "      <td>0.0</td>\n",
       "    </tr>\n",
       "    <tr>\n",
       "      <th>45845</th>\n",
       "      <td>0.0</td>\n",
       "      <td>0.0</td>\n",
       "      <td>0.0</td>\n",
       "      <td>0.0</td>\n",
       "      <td>0.0</td>\n",
       "      <td>0.0</td>\n",
       "      <td>0.0</td>\n",
       "      <td>0.0</td>\n",
       "      <td>0.0</td>\n",
       "      <td>0.0</td>\n",
       "      <td>...</td>\n",
       "      <td>0.0</td>\n",
       "      <td>0.0</td>\n",
       "      <td>0.0</td>\n",
       "      <td>0.0</td>\n",
       "      <td>0.0</td>\n",
       "      <td>0.0</td>\n",
       "      <td>0.0</td>\n",
       "      <td>0.0</td>\n",
       "      <td>0.0</td>\n",
       "      <td>0.0</td>\n",
       "    </tr>\n",
       "    <tr>\n",
       "      <th>73932</th>\n",
       "      <td>0.0</td>\n",
       "      <td>0.0</td>\n",
       "      <td>0.0</td>\n",
       "      <td>0.0</td>\n",
       "      <td>0.0</td>\n",
       "      <td>0.0</td>\n",
       "      <td>0.0</td>\n",
       "      <td>0.0</td>\n",
       "      <td>0.0</td>\n",
       "      <td>0.0</td>\n",
       "      <td>...</td>\n",
       "      <td>0.0</td>\n",
       "      <td>0.0</td>\n",
       "      <td>0.0</td>\n",
       "      <td>0.0</td>\n",
       "      <td>0.0</td>\n",
       "      <td>0.0</td>\n",
       "      <td>0.0</td>\n",
       "      <td>0.0</td>\n",
       "      <td>0.0</td>\n",
       "      <td>0.0</td>\n",
       "    </tr>\n",
       "    <tr>\n",
       "      <th>36253</th>\n",
       "      <td>0.0</td>\n",
       "      <td>0.0</td>\n",
       "      <td>0.0</td>\n",
       "      <td>0.0</td>\n",
       "      <td>0.0</td>\n",
       "      <td>0.0</td>\n",
       "      <td>0.0</td>\n",
       "      <td>0.0</td>\n",
       "      <td>0.0</td>\n",
       "      <td>0.0</td>\n",
       "      <td>...</td>\n",
       "      <td>0.0</td>\n",
       "      <td>0.0</td>\n",
       "      <td>0.0</td>\n",
       "      <td>0.0</td>\n",
       "      <td>0.0</td>\n",
       "      <td>0.0</td>\n",
       "      <td>0.0</td>\n",
       "      <td>0.0</td>\n",
       "      <td>0.0</td>\n",
       "      <td>0.0</td>\n",
       "    </tr>\n",
       "    <tr>\n",
       "      <th>95051</th>\n",
       "      <td>0.0</td>\n",
       "      <td>0.0</td>\n",
       "      <td>0.0</td>\n",
       "      <td>0.0</td>\n",
       "      <td>0.0</td>\n",
       "      <td>0.0</td>\n",
       "      <td>0.0</td>\n",
       "      <td>0.0</td>\n",
       "      <td>0.0</td>\n",
       "      <td>0.0</td>\n",
       "      <td>...</td>\n",
       "      <td>0.0</td>\n",
       "      <td>0.0</td>\n",
       "      <td>0.0</td>\n",
       "      <td>0.0</td>\n",
       "      <td>0.0</td>\n",
       "      <td>0.0</td>\n",
       "      <td>0.0</td>\n",
       "      <td>0.0</td>\n",
       "      <td>0.0</td>\n",
       "      <td>0.0</td>\n",
       "    </tr>\n",
       "    <tr>\n",
       "      <th>39402</th>\n",
       "      <td>0.0</td>\n",
       "      <td>0.0</td>\n",
       "      <td>0.0</td>\n",
       "      <td>0.0</td>\n",
       "      <td>0.0</td>\n",
       "      <td>0.0</td>\n",
       "      <td>0.0</td>\n",
       "      <td>0.0</td>\n",
       "      <td>0.0</td>\n",
       "      <td>0.0</td>\n",
       "      <td>...</td>\n",
       "      <td>0.0</td>\n",
       "      <td>0.0</td>\n",
       "      <td>0.0</td>\n",
       "      <td>0.0</td>\n",
       "      <td>0.0</td>\n",
       "      <td>0.0</td>\n",
       "      <td>0.0</td>\n",
       "      <td>0.0</td>\n",
       "      <td>0.0</td>\n",
       "      <td>0.0</td>\n",
       "    </tr>\n",
       "    <tr>\n",
       "      <th>6200</th>\n",
       "      <td>0.0</td>\n",
       "      <td>0.0</td>\n",
       "      <td>0.0</td>\n",
       "      <td>0.0</td>\n",
       "      <td>0.0</td>\n",
       "      <td>0.0</td>\n",
       "      <td>0.0</td>\n",
       "      <td>0.0</td>\n",
       "      <td>0.0</td>\n",
       "      <td>0.0</td>\n",
       "      <td>...</td>\n",
       "      <td>0.0</td>\n",
       "      <td>0.0</td>\n",
       "      <td>0.0</td>\n",
       "      <td>0.0</td>\n",
       "      <td>0.0</td>\n",
       "      <td>0.0</td>\n",
       "      <td>0.0</td>\n",
       "      <td>0.0</td>\n",
       "      <td>0.0</td>\n",
       "      <td>0.0</td>\n",
       "    </tr>\n",
       "    <tr>\n",
       "      <th>35217</th>\n",
       "      <td>0.0</td>\n",
       "      <td>0.0</td>\n",
       "      <td>0.0</td>\n",
       "      <td>0.0</td>\n",
       "      <td>0.0</td>\n",
       "      <td>0.0</td>\n",
       "      <td>0.0</td>\n",
       "      <td>0.0</td>\n",
       "      <td>0.0</td>\n",
       "      <td>0.0</td>\n",
       "      <td>...</td>\n",
       "      <td>0.0</td>\n",
       "      <td>0.0</td>\n",
       "      <td>0.0</td>\n",
       "      <td>0.0</td>\n",
       "      <td>0.0</td>\n",
       "      <td>0.0</td>\n",
       "      <td>0.0</td>\n",
       "      <td>0.0</td>\n",
       "      <td>0.0</td>\n",
       "      <td>0.0</td>\n",
       "    </tr>\n",
       "  </tbody>\n",
       "</table>\n",
       "<p>10 rows × 3687 columns</p>\n",
       "</div>"
      ],
      "text/plain": [
       "content_id  0.0     1.0     3.0     6.0     7.0     8.0     9.0     10.0    \\\n",
       "account_id                                                                   \n",
       "92971          0.0     0.0     0.0     0.0     0.0     0.0     0.0     0.0   \n",
       "13879          0.0     0.0     0.0     1.0     0.0     0.0     0.0     0.0   \n",
       "5123           0.0     0.0     0.0     0.0     0.0     0.0     0.0     0.0   \n",
       "45845          0.0     0.0     0.0     0.0     0.0     0.0     0.0     0.0   \n",
       "73932          0.0     0.0     0.0     0.0     0.0     0.0     0.0     0.0   \n",
       "36253          0.0     0.0     0.0     0.0     0.0     0.0     0.0     0.0   \n",
       "95051          0.0     0.0     0.0     0.0     0.0     0.0     0.0     0.0   \n",
       "39402          0.0     0.0     0.0     0.0     0.0     0.0     0.0     0.0   \n",
       "6200           0.0     0.0     0.0     0.0     0.0     0.0     0.0     0.0   \n",
       "35217          0.0     0.0     0.0     0.0     0.0     0.0     0.0     0.0   \n",
       "\n",
       "content_id  11.0    12.0    ...  4357.0  4358.0  4359.0  4360.0  4361.0  \\\n",
       "account_id                  ...                                           \n",
       "92971          0.0     0.0  ...     0.0     0.0     0.0     0.0     0.0   \n",
       "13879          0.0     0.0  ...     0.0     0.0     0.0     0.0     0.0   \n",
       "5123           0.0     0.0  ...     0.0     0.0     0.0     0.0     0.0   \n",
       "45845          0.0     0.0  ...     0.0     0.0     0.0     0.0     0.0   \n",
       "73932          0.0     0.0  ...     0.0     0.0     0.0     0.0     0.0   \n",
       "36253          0.0     0.0  ...     0.0     0.0     0.0     0.0     0.0   \n",
       "95051          0.0     0.0  ...     0.0     0.0     0.0     0.0     0.0   \n",
       "39402          0.0     0.0  ...     0.0     0.0     0.0     0.0     0.0   \n",
       "6200           0.0     0.0  ...     0.0     0.0     0.0     0.0     0.0   \n",
       "35217          0.0     0.0  ...     0.0     0.0     0.0     0.0     0.0   \n",
       "\n",
       "content_id  4362.0  4363.0  4364.0  4365.0  4366.0  \n",
       "account_id                                          \n",
       "92971          0.0     0.0     0.0     0.0     0.0  \n",
       "13879          0.0     0.0     0.0     0.0     0.0  \n",
       "5123           0.0     0.0     0.0     0.0     0.0  \n",
       "45845          0.0     0.0     0.0     0.0     0.0  \n",
       "73932          0.0     0.0     0.0     0.0     0.0  \n",
       "36253          0.0     0.0     0.0     0.0     0.0  \n",
       "95051          0.0     0.0     0.0     0.0     0.0  \n",
       "39402          0.0     0.0     0.0     0.0     0.0  \n",
       "6200           0.0     0.0     0.0     0.0     0.0  \n",
       "35217          0.0     0.0     0.0     0.0     0.0  \n",
       "\n",
       "[10 rows x 3687 columns]"
      ]
     },
     "execution_count": 33,
     "metadata": {},
     "output_type": "execute_result"
    }
   ],
   "source": [
    "matriz_interacciones = matriz_interacciones.fillna(0)\n",
    "\n",
    "matriz_interacciones.sample(10)"
   ]
  },
  {
   "cell_type": "markdown",
   "metadata": {
    "id": "aWJH2o_kkgJz"
   },
   "source": [
    "## Elaboramos un diccionario para futura referencia de ambas variables"
   ]
  },
  {
   "cell_type": "code",
   "execution_count": 107,
   "metadata": {
    "executionInfo": {
     "elapsed": 11,
     "status": "ok",
     "timestamp": 1640009154924,
     "user": {
      "displayName": "Federico Baiocco",
      "photoUrl": "https://lh3.googleusercontent.com/a-/AOh14Ghf2wyATB48QBNVeVnR-1Y2rw_O5uZLAvphY2Otz9c=s64",
      "userId": "14260194928165318342"
     },
     "user_tz": 180
    },
    "id": "fwGc9-4ikh1S"
   },
   "outputs": [],
   "source": [
    "account_id = list(matriz_interacciones.index)\n",
    "account_dict = {}\n",
    "counter = 0 \n",
    "for i in account_id:\n",
    "    account_dict[i] = counter\n",
    "    counter += 1"
   ]
  },
  {
   "cell_type": "code",
   "execution_count": 108,
   "metadata": {
    "executionInfo": {
     "elapsed": 11,
     "status": "ok",
     "timestamp": 1640009154925,
     "user": {
      "displayName": "Federico Baiocco",
      "photoUrl": "https://lh3.googleusercontent.com/a-/AOh14Ghf2wyATB48QBNVeVnR-1Y2rw_O5uZLAvphY2Otz9c=s64",
      "userId": "14260194928165318342"
     },
     "user_tz": 180
    },
    "id": "0nGBBd7WlRiJ"
   },
   "outputs": [],
   "source": [
    "content_id = list(matriz_interacciones.columns)\n",
    "content_dict = {}\n",
    "counter = 0 \n",
    "for i in content_id:\n",
    "    content_dict[i] = counter\n",
    "    counter += 1"
   ]
  },
  {
   "cell_type": "markdown",
   "metadata": {
    "id": "clPO4XEkkm1Z"
   },
   "source": [
    "## Convertimos a csr matrix"
   ]
  },
  {
   "cell_type": "code",
   "execution_count": 36,
   "metadata": {
    "colab": {
     "base_uri": "https://localhost:8080/"
    },
    "executionInfo": {
     "elapsed": 6130,
     "status": "ok",
     "timestamp": 1640009161046,
     "user": {
      "displayName": "Federico Baiocco",
      "photoUrl": "https://lh3.googleusercontent.com/a-/AOh14Ghf2wyATB48QBNVeVnR-1Y2rw_O5uZLAvphY2Otz9c=s64",
      "userId": "14260194928165318342"
     },
     "user_tz": 180
    },
    "id": "pa-Lh08qkoQK",
    "outputId": "5bdbff73-5265-4e30-9479-33d6a63bfdc7"
   },
   "outputs": [
    {
     "data": {
      "text/plain": [
       "<97505x3687 sparse matrix of type '<class 'numpy.float64'>'\n",
       "\twith 223066 stored elements in Compressed Sparse Row format>"
      ]
     },
     "execution_count": 36,
     "metadata": {},
     "output_type": "execute_result"
    }
   ],
   "source": [
    "matriz_interacciones_csr = csr_matrix(matriz_interacciones.values)\n",
    "matriz_interacciones_csr"
   ]
  },
  {
   "cell_type": "markdown",
   "metadata": {
    "id": "Jr_MzxdDkqZ7"
   },
   "source": [
    "## Entrenamos el modelo"
   ]
  },
  {
   "cell_type": "code",
   "execution_count": 109,
   "metadata": {},
   "outputs": [
    {
     "data": {
      "text/html": [
       "<div>\n",
       "<style scoped>\n",
       "    .dataframe tbody tr th:only-of-type {\n",
       "        vertical-align: middle;\n",
       "    }\n",
       "\n",
       "    .dataframe tbody tr th {\n",
       "        vertical-align: top;\n",
       "    }\n",
       "\n",
       "    .dataframe thead th {\n",
       "        text-align: right;\n",
       "    }\n",
       "</style>\n",
       "<table border=\"1\" class=\"dataframe\">\n",
       "  <thead>\n",
       "    <tr style=\"text-align: right;\">\n",
       "      <th>content_id</th>\n",
       "      <th>0.0</th>\n",
       "      <th>1.0</th>\n",
       "      <th>3.0</th>\n",
       "      <th>6.0</th>\n",
       "      <th>7.0</th>\n",
       "      <th>8.0</th>\n",
       "      <th>9.0</th>\n",
       "      <th>10.0</th>\n",
       "      <th>11.0</th>\n",
       "      <th>12.0</th>\n",
       "      <th>...</th>\n",
       "      <th>4357.0</th>\n",
       "      <th>4358.0</th>\n",
       "      <th>4359.0</th>\n",
       "      <th>4360.0</th>\n",
       "      <th>4361.0</th>\n",
       "      <th>4362.0</th>\n",
       "      <th>4363.0</th>\n",
       "      <th>4364.0</th>\n",
       "      <th>4365.0</th>\n",
       "      <th>4366.0</th>\n",
       "    </tr>\n",
       "    <tr>\n",
       "      <th>account_id</th>\n",
       "      <th></th>\n",
       "      <th></th>\n",
       "      <th></th>\n",
       "      <th></th>\n",
       "      <th></th>\n",
       "      <th></th>\n",
       "      <th></th>\n",
       "      <th></th>\n",
       "      <th></th>\n",
       "      <th></th>\n",
       "      <th></th>\n",
       "      <th></th>\n",
       "      <th></th>\n",
       "      <th></th>\n",
       "      <th></th>\n",
       "      <th></th>\n",
       "      <th></th>\n",
       "      <th></th>\n",
       "      <th></th>\n",
       "      <th></th>\n",
       "      <th></th>\n",
       "    </tr>\n",
       "  </thead>\n",
       "  <tbody>\n",
       "    <tr>\n",
       "      <th>0</th>\n",
       "      <td>0.0</td>\n",
       "      <td>0.0</td>\n",
       "      <td>0.0</td>\n",
       "      <td>0.0</td>\n",
       "      <td>0.0</td>\n",
       "      <td>0.0</td>\n",
       "      <td>0.0</td>\n",
       "      <td>0.0</td>\n",
       "      <td>0.0</td>\n",
       "      <td>0.0</td>\n",
       "      <td>...</td>\n",
       "      <td>0.0</td>\n",
       "      <td>0.0</td>\n",
       "      <td>0.0</td>\n",
       "      <td>0.0</td>\n",
       "      <td>0.0</td>\n",
       "      <td>0.0</td>\n",
       "      <td>0.0</td>\n",
       "      <td>0.0</td>\n",
       "      <td>0.0</td>\n",
       "      <td>0.0</td>\n",
       "    </tr>\n",
       "    <tr>\n",
       "      <th>1</th>\n",
       "      <td>0.0</td>\n",
       "      <td>0.0</td>\n",
       "      <td>0.0</td>\n",
       "      <td>0.0</td>\n",
       "      <td>0.0</td>\n",
       "      <td>0.0</td>\n",
       "      <td>0.0</td>\n",
       "      <td>0.0</td>\n",
       "      <td>0.0</td>\n",
       "      <td>0.0</td>\n",
       "      <td>...</td>\n",
       "      <td>0.0</td>\n",
       "      <td>0.0</td>\n",
       "      <td>0.0</td>\n",
       "      <td>0.0</td>\n",
       "      <td>0.0</td>\n",
       "      <td>0.0</td>\n",
       "      <td>0.0</td>\n",
       "      <td>0.0</td>\n",
       "      <td>0.0</td>\n",
       "      <td>0.0</td>\n",
       "    </tr>\n",
       "    <tr>\n",
       "      <th>2</th>\n",
       "      <td>0.0</td>\n",
       "      <td>0.0</td>\n",
       "      <td>0.0</td>\n",
       "      <td>0.0</td>\n",
       "      <td>0.0</td>\n",
       "      <td>0.0</td>\n",
       "      <td>0.0</td>\n",
       "      <td>0.0</td>\n",
       "      <td>0.0</td>\n",
       "      <td>0.0</td>\n",
       "      <td>...</td>\n",
       "      <td>0.0</td>\n",
       "      <td>0.0</td>\n",
       "      <td>0.0</td>\n",
       "      <td>0.0</td>\n",
       "      <td>0.0</td>\n",
       "      <td>0.0</td>\n",
       "      <td>0.0</td>\n",
       "      <td>0.0</td>\n",
       "      <td>0.0</td>\n",
       "      <td>0.0</td>\n",
       "    </tr>\n",
       "  </tbody>\n",
       "</table>\n",
       "<p>3 rows × 3687 columns</p>\n",
       "</div>"
      ],
      "text/plain": [
       "content_id  0.0     1.0     3.0     6.0     7.0     8.0     9.0     10.0    \\\n",
       "account_id                                                                   \n",
       "0              0.0     0.0     0.0     0.0     0.0     0.0     0.0     0.0   \n",
       "1              0.0     0.0     0.0     0.0     0.0     0.0     0.0     0.0   \n",
       "2              0.0     0.0     0.0     0.0     0.0     0.0     0.0     0.0   \n",
       "\n",
       "content_id  11.0    12.0    ...  4357.0  4358.0  4359.0  4360.0  4361.0  \\\n",
       "account_id                  ...                                           \n",
       "0              0.0     0.0  ...     0.0     0.0     0.0     0.0     0.0   \n",
       "1              0.0     0.0  ...     0.0     0.0     0.0     0.0     0.0   \n",
       "2              0.0     0.0  ...     0.0     0.0     0.0     0.0     0.0   \n",
       "\n",
       "content_id  4362.0  4363.0  4364.0  4365.0  4366.0  \n",
       "account_id                                          \n",
       "0              0.0     0.0     0.0     0.0     0.0  \n",
       "1              0.0     0.0     0.0     0.0     0.0  \n",
       "2              0.0     0.0     0.0     0.0     0.0  \n",
       "\n",
       "[3 rows x 3687 columns]"
      ]
     },
     "execution_count": 109,
     "metadata": {},
     "output_type": "execute_result"
    }
   ],
   "source": [
    "matriz_interacciones.head(3)"
   ]
  },
  {
   "cell_type": "code",
   "execution_count": 110,
   "metadata": {
    "executionInfo": {
     "elapsed": 22640,
     "status": "ok",
     "timestamp": 1640009197450,
     "user": {
      "displayName": "Federico Baiocco",
      "photoUrl": "https://lh3.googleusercontent.com/a-/AOh14Ghf2wyATB48QBNVeVnR-1Y2rw_O5uZLAvphY2Otz9c=s64",
      "userId": "14260194928165318342"
     },
     "user_tz": 180
    },
    "id": "Vtpox3L5krSn"
   },
   "outputs": [],
   "source": [
    "model = LightFM(random_state=0,\n",
    "                loss='warp',\n",
    "                learning_rate=0.03,\n",
    "                no_components=100)\n",
    "\n",
    "model = model.fit(matriz_interacciones_csr,\n",
    "                  epochs=10,\n",
    "                  num_threads=16, verbose=False)"
   ]
  },
  {
   "cell_type": "markdown",
   "metadata": {},
   "source": [
    "## Definimos la función de recomendación"
   ]
  },
  {
   "cell_type": "code",
   "execution_count": 111,
   "metadata": {
    "executionInfo": {
     "elapsed": 40,
     "status": "ok",
     "timestamp": 1640009197451,
     "user": {
      "displayName": "Federico Baiocco",
      "photoUrl": "https://lh3.googleusercontent.com/a-/AOh14Ghf2wyATB48QBNVeVnR-1Y2rw_O5uZLAvphY2Otz9c=s64",
      "userId": "14260194928165318342"
     },
     "user_tz": 180
    },
    "id": "bTUHBaHRk5oa"
   },
   "outputs": [],
   "source": [
    "def recomm(model, matriz_interacciones, account_id, account_dict, content_dict, nrec_items = 20, show = True):\n",
    "\n",
    "    n_accounts, n_contents = matriz_interacciones.shape\n",
    "    account_x = account_dict[account_id]\n",
    "\n",
    "    scores = pd.Series(model.predict(account_x,np.arange(n_contents)))\n",
    "    scores.index = matriz_interacciones.columns\n",
    "    scores = list(pd.Series(scores.sort_values(ascending=False).index))\n",
    "    \n",
    "    known_items = list(pd.Series(matriz_interacciones.loc[account_id,:] \\\n",
    "                                [matriz_interacciones.loc[account_id,:] > 0].index).sort_values(ascending=False))\n",
    "    \n",
    "    #Filtro de items que ya leyó el usuario\n",
    "    scores = [x for x in scores if x not in known_items]\n",
    "    recomms = scores[0:nrec_items]\n",
    "\n",
    "    if show == True:\n",
    "        print (\"User: \" + str(account_id))\n",
    "        print(\"Known Likes:\")\n",
    "        counter = 1\n",
    "        for i in known_items:\n",
    "            print(str(counter) + '- ' + str(i))\n",
    "            counter+=1\n",
    "\n",
    "        print(\"\\n Recommended Items:\")\n",
    "        \n",
    "        counter = 1\n",
    "        for i in recomms:\n",
    "            print(str(counter) + '- ' + str(i))\n",
    "            counter+=1\n",
    "    return recomms"
   ]
  },
  {
   "cell_type": "markdown",
   "metadata": {
    "id": "MAOpcmN-EZgF"
   },
   "source": [
    "## Realizamos recomendaciones para los cold start, siendo estas los 20 contenidos más populares\n"
   ]
  },
  {
   "cell_type": "code",
   "execution_count": 112,
   "metadata": {
    "executionInfo": {
     "elapsed": 25,
     "status": "ok",
     "timestamp": 1640009197453,
     "user": {
      "displayName": "Federico Baiocco",
      "photoUrl": "https://lh3.googleusercontent.com/a-/AOh14Ghf2wyATB48QBNVeVnR-1Y2rw_O5uZLAvphY2Otz9c=s64",
      "userId": "14260194928165318342"
     },
     "user_tz": 180
    },
    "id": "wq_Ddzurv5Tw"
   },
   "outputs": [],
   "source": [
    "cold_start_recomms = train\\\n",
    "                      .groupby(\"content_id\")\\\n",
    "                      .agg({\"rating\": \"mean\"})\\\n",
    "                      .sort_values(by=\"rating\", ascending=False)\\\n",
    "                      .head(20)\\\n",
    "                      .index\\\n",
    "                      .to_list()"
   ]
  },
  {
   "cell_type": "markdown",
   "metadata": {
    "id": "C6YSYu8-wALd"
   },
   "source": [
    "A todos los usuarios cold start les recomendaremos:"
   ]
  },
  {
   "cell_type": "markdown",
   "metadata": {
    "id": "QnBfeNKgwDLR"
   },
   "source": [
    "## Ahora, generamos recomendaciones para todos los usuarios."
   ]
  },
  {
   "cell_type": "code",
   "execution_count": 113,
   "metadata": {
    "colab": {
     "base_uri": "https://localhost:8080/"
    },
    "executionInfo": {
     "elapsed": 397,
     "status": "ok",
     "timestamp": 1640009197832,
     "user": {
      "displayName": "Federico Baiocco",
      "photoUrl": "https://lh3.googleusercontent.com/a-/AOh14Ghf2wyATB48QBNVeVnR-1Y2rw_O5uZLAvphY2Otz9c=s64",
      "userId": "14260194928165318342"
     },
     "user_tz": 180
    },
    "id": "NRACA42JPVY2",
    "outputId": "78e48161-78c8-4c13-cf91-7f78c4a2c139"
   },
   "outputs": [
    {
     "name": "stdout",
     "output_type": "stream",
     "text": [
      "113873 97505\n"
     ]
    }
   ],
   "source": [
    "users = df_copia_resultados.account_id.unique()\n",
    "non_cold_users = train.account_id.unique()\n",
    "\n",
    "print(len(users), len(non_cold_users))"
   ]
  },
  {
   "cell_type": "code",
   "execution_count": 114,
   "metadata": {
    "executionInfo": {
     "elapsed": 342792,
     "status": "ok",
     "timestamp": 1640009540620,
     "user": {
      "displayName": "Federico Baiocco",
      "photoUrl": "https://lh3.googleusercontent.com/a-/AOh14Ghf2wyATB48QBNVeVnR-1Y2rw_O5uZLAvphY2Otz9c=s64",
      "userId": "14260194928165318342"
     },
     "user_tz": 180
    },
    "id": "j1SuPagxQXCm"
   },
   "outputs": [],
   "source": [
    "recomms_dict = {\n",
    "    \"user\": [],\n",
    "    \"recomms\": [],\n",
    "    \"cold\": []\n",
    "}\n",
    "\n",
    "for user in users:\n",
    "  \n",
    "  # Recomms personalizadas\n",
    "  if user in non_cold_users:\n",
    "    user_recomms = recomm(model, matriz_interacciones, user, account_dict, content_dict, nrec_items = 20, show = False)\n",
    "    recomms_dict[\"user\"].append(user)\n",
    "    recomms_dict[\"recomms\"].append(user_recomms)\n",
    "    recomms_dict[\"cold\"].append(False) #Para luego tener identificados a los usuarios cold\n",
    "  \n",
    "  # Recomms cold\n",
    "  else:\n",
    "    recomms_dict[\"user\"].append(user)\n",
    "    recomms_dict[\"recomms\"].append(cold_start_recomms)\n",
    "    recomms_dict[\"cold\"].append(True) #Para luego tener identificados a los usuarios cold"
   ]
  },
  {
   "cell_type": "markdown",
   "metadata": {
    "id": "sIUdRAbg3RIE"
   },
   "source": [
    "## Convertimos el diccionario generado en df"
   ]
  },
  {
   "cell_type": "code",
   "execution_count": 115,
   "metadata": {
    "executionInfo": {
     "elapsed": 23,
     "status": "ok",
     "timestamp": 1640009540630,
     "user": {
      "displayName": "Federico Baiocco",
      "photoUrl": "https://lh3.googleusercontent.com/a-/AOh14Ghf2wyATB48QBNVeVnR-1Y2rw_O5uZLAvphY2Otz9c=s64",
      "userId": "14260194928165318342"
     },
     "user_tz": 180
    },
    "id": "LR95YqSfrkag"
   },
   "outputs": [],
   "source": [
    "recomms_df = pd.DataFrame(recomms_dict)"
   ]
  },
  {
   "cell_type": "code",
   "execution_count": 116,
   "metadata": {
    "colab": {
     "base_uri": "https://localhost:8080/",
     "height": 206
    },
    "executionInfo": {
     "elapsed": 23,
     "status": "ok",
     "timestamp": 1640009540631,
     "user": {
      "displayName": "Federico Baiocco",
      "photoUrl": "https://lh3.googleusercontent.com/a-/AOh14Ghf2wyATB48QBNVeVnR-1Y2rw_O5uZLAvphY2Otz9c=s64",
      "userId": "14260194928165318342"
     },
     "user_tz": 180
    },
    "id": "MrYkKNdd3M8Z",
    "outputId": "ddaefd9a-30bc-4830-9b78-65a1e7a3dd67",
    "scrolled": true
   },
   "outputs": [
    {
     "data": {
      "text/html": [
       "<div>\n",
       "<style scoped>\n",
       "    .dataframe tbody tr th:only-of-type {\n",
       "        vertical-align: middle;\n",
       "    }\n",
       "\n",
       "    .dataframe tbody tr th {\n",
       "        vertical-align: top;\n",
       "    }\n",
       "\n",
       "    .dataframe thead th {\n",
       "        text-align: right;\n",
       "    }\n",
       "</style>\n",
       "<table border=\"1\" class=\"dataframe\">\n",
       "  <thead>\n",
       "    <tr style=\"text-align: right;\">\n",
       "      <th></th>\n",
       "      <th>user</th>\n",
       "      <th>recomms</th>\n",
       "      <th>cold</th>\n",
       "    </tr>\n",
       "  </thead>\n",
       "  <tbody>\n",
       "    <tr>\n",
       "      <th>0</th>\n",
       "      <td>3399</td>\n",
       "      <td>[3900.0, 2040.0, 3806.0, 2942.0, 3726.0, 53.0,...</td>\n",
       "      <td>False</td>\n",
       "    </tr>\n",
       "    <tr>\n",
       "      <th>1</th>\n",
       "      <td>26153</td>\n",
       "      <td>[4366.0, 3087.0, 3151.0, 1005.0, 1008.0, 3119....</td>\n",
       "      <td>True</td>\n",
       "    </tr>\n",
       "    <tr>\n",
       "      <th>2</th>\n",
       "      <td>3599</td>\n",
       "      <td>[4366.0, 3087.0, 3151.0, 1005.0, 1008.0, 3119....</td>\n",
       "      <td>True</td>\n",
       "    </tr>\n",
       "    <tr>\n",
       "      <th>3</th>\n",
       "      <td>107896</td>\n",
       "      <td>[2040.0, 3900.0, 604.0, 3806.0, 97.0, 3716.0, ...</td>\n",
       "      <td>False</td>\n",
       "    </tr>\n",
       "    <tr>\n",
       "      <th>4</th>\n",
       "      <td>28867</td>\n",
       "      <td>[53.0, 135.0, 3900.0, 558.0, 1316.0, 657.0, 19...</td>\n",
       "      <td>False</td>\n",
       "    </tr>\n",
       "  </tbody>\n",
       "</table>\n",
       "</div>"
      ],
      "text/plain": [
       "     user                                            recomms   cold\n",
       "0    3399  [3900.0, 2040.0, 3806.0, 2942.0, 3726.0, 53.0,...  False\n",
       "1   26153  [4366.0, 3087.0, 3151.0, 1005.0, 1008.0, 3119....   True\n",
       "2    3599  [4366.0, 3087.0, 3151.0, 1005.0, 1008.0, 3119....   True\n",
       "3  107896  [2040.0, 3900.0, 604.0, 3806.0, 97.0, 3716.0, ...  False\n",
       "4   28867  [53.0, 135.0, 3900.0, 558.0, 1316.0, 657.0, 19...  False"
      ]
     },
     "execution_count": 116,
     "metadata": {},
     "output_type": "execute_result"
    }
   ],
   "source": [
    "recomms_df.head()"
   ]
  },
  {
   "cell_type": "code",
   "execution_count": 118,
   "metadata": {},
   "outputs": [],
   "source": [
    "ideal_recoms = test\\\n",
    "    .sort_values('account_id', ascending=False)\\\n",
    "    .groupby('account_id', as_index=False)\\\n",
    "    .agg({'content_id': 'unique'})\n"
   ]
  },
  {
   "cell_type": "markdown",
   "metadata": {
    "id": "B-QUXuqXPxtQ"
   },
   "source": [
    "## Evaluación con MAP:"
   ]
  },
  {
   "cell_type": "code",
   "execution_count": 119,
   "metadata": {
    "colab": {
     "base_uri": "https://localhost:8080/",
     "height": 206
    },
    "executionInfo": {
     "elapsed": 279,
     "status": "ok",
     "timestamp": 1640010927742,
     "user": {
      "displayName": "Federico Baiocco",
      "photoUrl": "https://lh3.googleusercontent.com/a-/AOh14Ghf2wyATB48QBNVeVnR-1Y2rw_O5uZLAvphY2Otz9c=s64",
      "userId": "14260194928165318342"
     },
     "user_tz": 180
    },
    "id": "8ksWvNwjP4Rb",
    "outputId": "0862beae-e55a-4dcd-c492-3184f53de21c"
   },
   "outputs": [
    {
     "data": {
      "text/html": [
       "<div>\n",
       "<style scoped>\n",
       "    .dataframe tbody tr th:only-of-type {\n",
       "        vertical-align: middle;\n",
       "    }\n",
       "\n",
       "    .dataframe tbody tr th {\n",
       "        vertical-align: top;\n",
       "    }\n",
       "\n",
       "    .dataframe thead th {\n",
       "        text-align: right;\n",
       "    }\n",
       "</style>\n",
       "<table border=\"1\" class=\"dataframe\">\n",
       "  <thead>\n",
       "    <tr style=\"text-align: right;\">\n",
       "      <th></th>\n",
       "      <th>account_id</th>\n",
       "      <th>content_id</th>\n",
       "      <th>recomms</th>\n",
       "    </tr>\n",
       "  </thead>\n",
       "  <tbody>\n",
       "    <tr>\n",
       "      <th>0</th>\n",
       "      <td>2</td>\n",
       "      <td>[433.0]</td>\n",
       "      <td>[3806.0, 3900.0, 2040.0, 2178.0, 3292.0, 3381....</td>\n",
       "    </tr>\n",
       "    <tr>\n",
       "      <th>1</th>\n",
       "      <td>3</td>\n",
       "      <td>[461.0, 3980.0, 4111.0, 2547.0, 3702.0, 3169.0...</td>\n",
       "      <td>[604.0, 3806.0, 2040.0, 2160.0, 3274.0, 292.0,...</td>\n",
       "    </tr>\n",
       "    <tr>\n",
       "      <th>2</th>\n",
       "      <td>4</td>\n",
       "      <td>[4129.0, 2344.0, 2212.0, 4340.0, 513.0, 565.0,...</td>\n",
       "      <td>[3900.0, 3775.0, 3806.0, 292.0, 2160.0, 3091.0...</td>\n",
       "    </tr>\n",
       "    <tr>\n",
       "      <th>3</th>\n",
       "      <td>5</td>\n",
       "      <td>[2259.0]</td>\n",
       "      <td>[2160.0, 1139.0, 304.0, 20.0, 1529.0, 8.0, 680...</td>\n",
       "    </tr>\n",
       "    <tr>\n",
       "      <th>4</th>\n",
       "      <td>6</td>\n",
       "      <td>[3902.0, 3388.0, 3211.0, 4065.0, 3386.0, 2900.0]</td>\n",
       "      <td>[1140.0, 3752.0, 3716.0, 2040.0, 2426.0, 3969....</td>\n",
       "    </tr>\n",
       "  </tbody>\n",
       "</table>\n",
       "</div>"
      ],
      "text/plain": [
       "   account_id                                         content_id  \\\n",
       "0           2                                            [433.0]   \n",
       "1           3  [461.0, 3980.0, 4111.0, 2547.0, 3702.0, 3169.0...   \n",
       "2           4  [4129.0, 2344.0, 2212.0, 4340.0, 513.0, 565.0,...   \n",
       "3           5                                           [2259.0]   \n",
       "4           6   [3902.0, 3388.0, 3211.0, 4065.0, 3386.0, 2900.0]   \n",
       "\n",
       "                                             recomms  \n",
       "0  [3806.0, 3900.0, 2040.0, 2178.0, 3292.0, 3381....  \n",
       "1  [604.0, 3806.0, 2040.0, 2160.0, 3274.0, 292.0,...  \n",
       "2  [3900.0, 3775.0, 3806.0, 292.0, 2160.0, 3091.0...  \n",
       "3  [2160.0, 1139.0, 304.0, 20.0, 1529.0, 8.0, 680...  \n",
       "4  [1140.0, 3752.0, 3716.0, 2040.0, 2426.0, 3969....  "
      ]
     },
     "execution_count": 119,
     "metadata": {},
     "output_type": "execute_result"
    }
   ],
   "source": [
    "df_map = ideal_recoms.merge(recomms_df, how=\"left\", left_on=\"account_id\", right_on=\"user\")[[\"account_id\", \"content_id\", \"recomms\"]]\n",
    "\n",
    "df_map.head()"
   ]
  },
  {
   "cell_type": "code",
   "execution_count": 120,
   "metadata": {
    "executionInfo": {
     "elapsed": 262,
     "status": "ok",
     "timestamp": 1640011317873,
     "user": {
      "displayName": "Federico Baiocco",
      "photoUrl": "https://lh3.googleusercontent.com/a-/AOh14Ghf2wyATB48QBNVeVnR-1Y2rw_O5uZLAvphY2Otz9c=s64",
      "userId": "14260194928165318342"
     },
     "user_tz": 180
    },
    "id": "grOMlCPARnfZ"
   },
   "outputs": [],
   "source": [
    "aps = [] # lista vacía para ir almacenando la AP de cada recomendación\n",
    "\n",
    "for pred, label in df_map[[\"content_id\", \"recomms\"]].values:\n",
    "  n = len(pred) # cantidad de elementos recomendados\n",
    "  arange = np.arange(n, dtype=np.int32) + 1. # indexamos en base 1 \n",
    "  rel_k = np.in1d(pred[:n], label) # lista de booleanos que indican la relevancia de cada ítem\n",
    "  tp = np.ones(rel_k.sum(), dtype=np.int32).cumsum() # lista con el contador de verdaderos positivos\n",
    "  denom = arange[rel_k] # posiciones donde se encuentran los ítems relantes\n",
    "  ap = (tp / denom).sum() / len(label) # average precision\n",
    "  aps.append(ap)"
   ]
  },
  {
   "cell_type": "code",
   "execution_count": 121,
   "metadata": {
    "colab": {
     "base_uri": "https://localhost:8080/"
    },
    "executionInfo": {
     "elapsed": 273,
     "status": "ok",
     "timestamp": 1640011346054,
     "user": {
      "displayName": "Federico Baiocco",
      "photoUrl": "https://lh3.googleusercontent.com/a-/AOh14Ghf2wyATB48QBNVeVnR-1Y2rw_O5uZLAvphY2Otz9c=s64",
      "userId": "14260194928165318342"
     },
     "user_tz": 180
    },
    "id": "0A8W5C0ZStIP",
    "outputId": "1c497b06-4a8d-4ac9-acbb-efc6a5d004c1"
   },
   "outputs": [
    {
     "name": "stdout",
     "output_type": "stream",
     "text": [
      "mean average precision = 0.00901\n"
     ]
    }
   ],
   "source": [
    "MAP = np.mean(aps)\n",
    "print(f'mean average precision = {round(MAP, 5)}')"
   ]
  },
  {
   "cell_type": "markdown",
   "metadata": {},
   "source": [
    "## 0.00901 es el MAP obtenido"
   ]
  }
 ],
 "metadata": {
  "colab": {
   "authorship_tag": "ABX9TyPtdswG92xEofOQ3ttoKl0A",
   "collapsed_sections": [],
   "name": "Recsys_métricas_resuelto.ipynb",
   "provenance": []
  },
  "kernelspec": {
   "display_name": "Python 3 (ipykernel)",
   "language": "python",
   "name": "python3"
  },
  "language_info": {
   "codemirror_mode": {
    "name": "ipython",
    "version": 3
   },
   "file_extension": ".py",
   "mimetype": "text/x-python",
   "name": "python",
   "nbconvert_exporter": "python",
   "pygments_lexer": "ipython3",
   "version": "3.9.13"
  },
  "vscode": {
   "interpreter": {
    "hash": "892d461b55a6ce994a56bafd67ae2f3489d9f23234c096cfb51dfe498c166e4b"
   }
  }
 },
 "nbformat": 4,
 "nbformat_minor": 1
}
